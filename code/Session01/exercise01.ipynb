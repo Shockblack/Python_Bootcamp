{
 "cells": [
  {
   "cell_type": "markdown",
   "metadata": {},
   "source": [
    "# Exercise 01 | Data Basics\n",
    "\n",
    "Written By: Aiden Zelakiewicz (asz39@cornell.edu)\n",
    "\n",
    "Inspired By: tOSU ASTRO1221 HW02 by [Prof. Donald Terndrup](https://astronomy.osu.edu/people/terndrup.1)\n",
    "\n",
    "In this exercise, you will be introduced and familiarized with manipulating data in Python with a couple different packages.\n",
    "We will use selected stars from the [Landolt 1992](https://ui.adsabs.harvard.edu/abs/1992AJ....104..340L/abstract) photometric standards catalog.\n",
    "The file included in this exercise, `landolt.dat`, contains stellar names, Right Ascension, Declination, $V$-band magnitude, $B-V$ color, and parallax in milliarcsec.\n",
    "\n",
    "When you see a \"<---TO DO--->\" header in this notebook, that is an exercise for you to complete! If you are struggling and have questions, ask one of the graduate students for help and we will lead you in the right direction :D\n",
    "\n",
    "\n",
    "## Goal for This Exercise:\n",
    "\n",
    "Create a Distance vs Absolute Magnitude Diagram while learning how to\n",
    "\n",
    "1. Import data\n",
    "\n",
    "2. Create Functions\n",
    "\n",
    "3. Use if/else Statements\n",
    "\n",
    "4. Loops and list comprehension\n",
    "\n",
    "5. Perform Operations on Data\n",
    "\n",
    "6. Export your data to file"
   ]
  },
  {
   "cell_type": "markdown",
   "metadata": {},
   "source": [
    "## Importing Data\n",
    "\n",
    "Importing data, as one might guess, is necessary for most astronomy applications of Python. There are various Python packages you might find useful to do so, such as `numpy` or `pandas`."
   ]
  },
  {
   "cell_type": "markdown",
   "metadata": {},
   "source": [
    "### Using Python\n",
    "\n",
    "Using native Python to import data can be very difficult, and I will not recommend doing so.\n",
    "For completeness sake, I will include it... hesitantly.\n",
    "\n",
    "Every line is read in as a single `string` and needs to be split apart manually by default.\n",
    "If you want a line to contain various data types, you need to declare that manually which can be very time consuming."
   ]
  },
  {
   "cell_type": "code",
   "execution_count": null,
   "metadata": {},
   "outputs": [],
   "source": [
    "fname = \"landolt.dat\"\n",
    "\n",
    "# Read in the file\n",
    "file = open(fname, 'r')\n",
    "lines = file.readlines()\n",
    "file.close() # Make sure to close the file\n",
    "\n",
    "# Remove the first 23 lines, which includes comments and header information\n",
    "landolt_dat = lines[23:]\n",
    "\n",
    "# Split by whitespace using list comprehension\n",
    "# We will return to list comprehension later in the bootcamp\n",
    "landolt_dat = [line.split() for line in landolt_dat]\n",
    "\n",
    "# Change all columns to floats\n",
    "landolt_dat = [[float(col) for col in row] for row in landolt_dat]\n",
    "\n",
    "print(landolt_dat[0])\n",
    "\n",
    "print(\"Type:\", type(landolt_dat))"
   ]
  },
  {
   "cell_type": "markdown",
   "metadata": {},
   "source": [
    "That was very difficult! 99% of the time you should avoid using this, as packages make it much easier. Your final datatype will be a `list`, which is a very common way to organize and manipulate data."
   ]
  },
  {
   "cell_type": "markdown",
   "metadata": {},
   "source": [
    "### Using Numpy\n",
    "\n",
    "There are a handful of functions to import data using Numpy. Some key ones to remember are `np.loadtxt()` and `np.genfromtxt()`. The latter gives similar functionality to Pandas dataframes and Python dictionaries, being that you can call the columns with names.\n",
    "\n",
    "Numpy organizes data in `ndarray`s, which are basically fancy and improved `list`s. We will explore some of the benefits of Numpy `ndarray`s further on."
   ]
  },
  {
   "cell_type": "code",
   "execution_count": null,
   "metadata": {},
   "outputs": [],
   "source": [
    "# Importing the package numpy and giving it the alias np\n",
    "# This is a common convention and allows us to refer to numpy functions as np.function_name\n",
    "import numpy as np \n",
    "\n",
    "fname = \"landolt.dat\"\n",
    "\n",
    "landolt_arr = np.loadtxt(fname, skiprows=23) # Skip the first 23 lines of comments and header\n",
    "\n",
    "print(\"Type:\", type(landolt_arr))\n",
    "\n",
    "# You can access rows by index\n",
    "print(landolt_arr[0])\n",
    "\n",
    "# Or columns through a cheeky index method\n",
    "print(landolt_arr[:,0]) #[:] means all rows, then comma seperates the column index"
   ]
  },
  {
   "cell_type": "markdown",
   "metadata": {},
   "source": [
    "### Using Pandas\n",
    "\n",
    "Pandas is another package which has become increasingly popular in data science recently due to its easy-to-use and intuitive `DataFrames`.\n",
    "While Numpy `ndarray`s are fancy `list`s, Pandas `DataFrame`s are more akin to fancy dictionaries (`dict`s)."
   ]
  },
  {
   "cell_type": "code",
   "execution_count": null,
   "metadata": {},
   "outputs": [],
   "source": [
    "import pandas as pd\n",
    "\n",
    "fname = \"landolt.dat\"\n",
    "\n",
    "# Often pandas dataframes have the alias df\n",
    "landolt_df = pd.read_csv(fname, skiprows=22, delim_whitespace=True) # delim_whitespace=True tells pandas to split by ANY whitespace\n",
    "\n",
    "print(\"Type:\", type(landolt_df))\n",
    "\n",
    "# We can print the column names and first few rows using the .head() method\n",
    "# It's a useful way to get a quick look at the data and make sure it was read in correctly\n",
    "print(landolt_df.head())"
   ]
  },
  {
   "cell_type": "code",
   "execution_count": null,
   "metadata": {},
   "outputs": [],
   "source": [
    "# We can access columns by name (more common in pandas)\n",
    "print(landolt_df['BV'], '\\n') # \\n is a newline character, just to make the output easier to read\n",
    "\n",
    "# Or you can access rows by index using .iloc[row_index]\n",
    "print(landolt_df.iloc[0])"
   ]
  },
  {
   "cell_type": "markdown",
   "metadata": {},
   "source": [
    "### <---TO DO--->\n",
    "\n",
    "Included in this folder is a file titled `example.csv` in a common text file format called \"comma seperated variables\", or CSV for short.\n",
    "View the CSV to see its structure and how it is laid out.\n",
    "In the following cell, import the file using Pandas (`read_csv`).\n",
    "\n",
    "**Print the Name and Age of one of the entries.**\n",
    "\n",
    "NOTE: The delimeter (what seperates the data) isn't whitespace anymore, and is a comma!\n",
    "\n",
    "\n",
    "**HINT:**\n",
    "\n",
    "Both Numpy and Pandas allow an argument of delimeter=\" \" to define what the delimeter is.\n",
    "\n",
    "If you have a list inside of a list (or array in an array) in the format (i, k) you can access the kth element of the ith list using my_list[k][i]\n"
   ]
  },
  {
   "cell_type": "code",
   "execution_count": null,
   "metadata": {},
   "outputs": [],
   "source": [
    "# Write the path to the file\n",
    "fname = \"path/to/file.extenstion\"\n",
    "\n",
    "# Read in the file\n",
    "# YOUR CODE HERE\n",
    "\n",
    "# Print the name and age of an entry\n",
    "print(\"YOUR CODE HERE\")"
   ]
  },
  {
   "cell_type": "markdown",
   "metadata": {},
   "source": [
    "## Functions and Conditional Statements\n",
    "\n",
    "A good motto to live by when writing code is **DRY: Don't Repeat Yourself**!\n",
    "If you need to write code twice, you should create a function for it.\n",
    "Here we will create some functions to analyze the data using a couple of different methods.\n",
    "We will also explore some conditional statements that will give us flexibility and add logic into our code!\n",
    "\n",
    "Python is organized by indents, which is uncommon for many coding languages.\n",
    "This means that to tell Python that a certain block of code belongs together it must be indented together.\n",
    "This will become clearer when we create a function and use conditional statements."
   ]
  },
  {
   "cell_type": "markdown",
   "metadata": {},
   "source": [
    "### Getting Distances\n",
    "\n",
    "When observing stars close to us, we can use the observed *parallax* of the star to get a distance.\n",
    "In fact, a *parsec* is defined as the distance an object is from Earth when the observed parallax is 1 arcsecond ($1\"=\\frac{1^\\circ}{3600}$).\n",
    "\n",
    "![Image showing the definition of a parsec.](https://wwwhip.obspm.fr/~arenou/images/parsec/pc-def.jpg)\n",
    "\n",
    "Using a small angle approximation, we can get the distance ($D$) in parsecs from the parallax ($p$) in arcseconds using the formula:\n",
    "$$\n",
    "D = 1/p\n",
    "$$\n",
    "Because we will probably want to use this formula a lot, it might be a good idea to make a function for it!"
   ]
  },
  {
   "cell_type": "markdown",
   "metadata": {},
   "source": [
    "### Functions\n",
    "\n",
    "In Python, functions are declared using `def`.\n",
    "The format for creating a function is `def <function name>:`, where \"\\<function name\\>\" is relaced by a whatever you want to call your function.\n",
    "Function, and class, naming follows the same rules as variables.\n",
    "\n",
    "All code that you want included in the function must be indented so that Python knows it is part of the function, with the standard being to use a tab.\n",
    "Functions are usually closed using `return`, which can be used to output an object or just tell Python the function has ended.\n",
    "\n",
    "\n",
    "Functions should include documentation to explain what they do, called a docstring.\n",
    "Docstrings come immediately after the function declaration and are wrapped in three pairs of quotation marks (`\"\"\"DOCSTRING\"\"\"`).\n",
    "There are some common formatting styles for creating docstrings, but any kind of docstring is better than none!\n",
    "\n",
    "A second type of functions are `lambda` functions.\n",
    "These are less common but can be very quick and handy.\n",
    "They are defined and returned all in a single line of the form `function_name = lambda x: (operation on variable x)`."
   ]
  },
  {
   "cell_type": "code",
   "execution_count": null,
   "metadata": {},
   "outputs": [],
   "source": [
    "def dfromp(p):\n",
    "    \"\"\"\n",
    "    Returns the distance to a star in parsecs given its parallax in arcseconds.\n",
    "\n",
    "    Parameters\n",
    "    ----------\n",
    "    p : float\n",
    "        parallax in arcseconds\n",
    "\n",
    "    Returns\n",
    "    -------\n",
    "    d : float\n",
    "        distance in parsecs\n",
    "    \"\"\"\n",
    "    # Above is a sample docstring in the numpy style, my personal favorite\n",
    "\n",
    "    d = 1/p\n",
    "    return d\n",
    "\n",
    "# Creating a lambda function that does the same thing\n",
    "dfromp_lambda = lambda p: 1/p"
   ]
  },
  {
   "cell_type": "code",
   "execution_count": null,
   "metadata": {},
   "outputs": [],
   "source": [
    "# Now let's test the function on a parallax of 0.1 arcseconds\n",
    "p = 0.1\n",
    "\n",
    "print(dfromp(p))\n",
    "print(dfromp_lambda(p))"
   ]
  },
  {
   "cell_type": "markdown",
   "metadata": {},
   "source": [
    "Let's say someone else is using a function you created by importing your file (like we did with numpy!) and they are confused about your organization.\n",
    "Someone can simply type `help()` with the function name to view the docstring."
   ]
  },
  {
   "cell_type": "code",
   "execution_count": null,
   "metadata": {},
   "outputs": [],
   "source": [
    "help(dfromp)"
   ]
  },
  {
   "cell_type": "markdown",
   "metadata": {},
   "source": [
    "### If/Else Statements\n",
    "\n",
    "One of the most important logistical tools in coding is the `if` and `else` statement.\n",
    "These can be used to execute a chunk of code `if` a given condition is met or, if not, default to something `else`.\n",
    "\n",
    "`if`/`else` statements follow the same indentation rules as functions.\n",
    "The `if` condition is also set up using the following format: `if CONDITION:`.\n",
    "`else` does not require a condition though: `else:`.\n",
    "\n",
    "We can also stack conditions using operators like `and` as well as `or`, or set different cases to check using `elif`.\n",
    "`elif` falls in between `if` and `else`, and follows the same formatting as `if`."
   ]
  },
  {
   "cell_type": "code",
   "execution_count": null,
   "metadata": {},
   "outputs": [],
   "source": [
    "x = 3\n",
    "\n",
    "if x > 0:\n",
    "    print(\"x is positive\")\n",
    "elif x == 0:\n",
    "    print(\"x is zero\")\n",
    "else:\n",
    "    print(\"x is negative\")"
   ]
  },
  {
   "cell_type": "markdown",
   "metadata": {},
   "source": [
    "We can apply these statements to our distance function earlier to tell it whether we are working in arcseconds or milliarcseconds.\n",
    "We achieve this by adding an additional parameter into our function, `is_milli`.\n",
    "Parameters in functions are seperated by a comma, and can be given a default value by using an equals sign (`=`).\n",
    "Note that parameters without equal signs, namely required parameters, must be declared before optional parameters."
   ]
  },
  {
   "cell_type": "code",
   "execution_count": null,
   "metadata": {},
   "outputs": [],
   "source": [
    "def dfromp(p, is_milli=True):\n",
    "    \"\"\"\n",
    "    Returns the distance to a star in parsecs given its parallax in arcseconds.\n",
    "\n",
    "    Parameters\n",
    "    ----------\n",
    "    p : float\n",
    "        parallax in arcseconds or milliarcseconds\n",
    "    \n",
    "    is_milli : bool, optional\n",
    "        whether the parallax is in milliarcseconds\n",
    "\n",
    "    Returns\n",
    "    -------\n",
    "    d : float\n",
    "        distance in parsecs\n",
    "    \"\"\"\n",
    "    \n",
    "    # Notice the nested indentation here! 1 for the function, 1 for the if statement\n",
    "    if is_milli:\n",
    "        d = 1000/p\n",
    "    else:\n",
    "        d = 1/p\n",
    "\n",
    "    return d\n",
    "\n",
    "# Testing on the same parallax\n",
    "print('Distance from parallex = 0.1 milliarcsec:',dfromp(p), \"parsecs\")\n",
    "print('Distance from parallex = 0.1 arcsec:',dfromp(p, is_milli=False), \"parsecs\")"
   ]
  },
  {
   "cell_type": "markdown",
   "metadata": {},
   "source": [
    "### For (and while) loops\n",
    "\n",
    "Often we want to loop over a list of values to do an operation, or keep performing an operation until a condition is met.\n",
    "This is where the `for` loop and `while` loop come in.\n",
    "\n",
    "A `for` loop is run with the following syntax: `for x in y:`, where `x` is the item in each iterable of `y`.\n",
    "But what does that mean?\n",
    "Let's go back to the very start where we had the `for` loop: `for i in range(len(landolt_dat)):`.\n",
    "What we did is create an iterable of a list with length of the data file.\n",
    "We then told Python to loop over this length, essentially looping over the index location `i` of each entry.\n",
    "It then started at `i=0` (Python always starts at index=0) until `i=len(landolt_dat)-1`.\n",
    "\n",
    "A fun application for `for` loops is to loop over a `list` or `array`.\n",
    "It is identical to the above case, but we instead use a list instead of the iterable, like so:"
   ]
  },
  {
   "cell_type": "code",
   "execution_count": null,
   "metadata": {},
   "outputs": [],
   "source": [
    "my_list = [1, 2, 3, 4, 5]\n",
    "for item in my_list:\n",
    "    calculation = item**2\n",
    "    print(calculation)"
   ]
  },
  {
   "cell_type": "markdown",
   "metadata": {},
   "source": [
    "While `for` loops run until the last element, `while` loops run until a certain condition is met or you force an escape through a `break` command.\n",
    "You can often avoid using a `break` by smartly defining your `while` conditions, but it is not always possible for complex problems."
   ]
  },
  {
   "cell_type": "code",
   "execution_count": null,
   "metadata": {},
   "outputs": [],
   "source": [
    "x = 10\n",
    "\n",
    "while x >7:\n",
    "    print(x)\n",
    "    x -= 1 # x-=1 is equivalent to x = x - 1\n",
    "\n",
    "\n",
    "x=10\n",
    "while x>0:\n",
    "    print(x)\n",
    "    x -= 1\n",
    "\n",
    "    if x < 8: # Breaks out of the loop when x is less than 8\n",
    "        break # Breaks out of the loop"
   ]
  },
  {
   "cell_type": "markdown",
   "metadata": {},
   "source": [
    "Now getting back to astronomy, let's say we want to calculate distances for ALL of our data.\n",
    "We now have all of the tools at our disposal to do so by combining a `for` loop with the `.append()` method.\n",
    "We can add it as a new column into our data list."
   ]
  },
  {
   "cell_type": "code",
   "execution_count": null,
   "metadata": {},
   "outputs": [],
   "source": [
    "print(\"Shape of landolt_dat before append:\", np.shape(landolt_dat))\n",
    "\n",
    "for star in landolt_dat:\n",
    "\n",
    "    # Because parallax is last column, we can access it with -1\n",
    "    d = dfromp(star[-1])\n",
    "\n",
    "    # Append to end of row\n",
    "    star.append(d)\n",
    "\n",
    "print(\"Shape of landolt_dat after append:\", np.shape(landolt_dat))"
   ]
  },
  {
   "cell_type": "code",
   "execution_count": null,
   "metadata": {},
   "outputs": [],
   "source": [
    "# Delete last column we just added\n",
    "landolt_dat = [star[:-1] for star in landolt_dat]"
   ]
  },
  {
   "cell_type": "markdown",
   "metadata": {},
   "source": [
    "#### List Comprehension\n",
    "\n",
    "Now, you may have seen me do some sneaky techniques of putting for loops in a `list`.\n",
    "This is known as **list comprehension** and it generally is a more compact and computationally efficient way of looping through lists.\n",
    "When doing the simple `for` loop, Python needs to access and load both the `list` and its `.append()` function on each iteration which takes time, especially on very large datasets.\n",
    "\n",
    "List comprehension follows a fairly simple logic structure, which is identical to the `for` loop.\n",
    "Take the cell above, where I deleted the appended data.\n",
    "The first chunk in the list is the action being taken which would have been indented in a `for` loop.\n",
    "Then, the standard `for` loop declaration is made.\n",
    "Let us re-append our data."
   ]
  },
  {
   "cell_type": "code",
   "execution_count": null,
   "metadata": {},
   "outputs": [],
   "source": [
    "# Append the distance to the list using a list comprehension\n",
    "landolt_dat = [star + [dfromp(star[-1])] for star in landolt_dat]\n",
    "# When using LISTS, '+' concatenates lists\n",
    "# When using NUMPY ARRAYS, '+' adds the elements of the arrays. This a key difference between the two data structures"
   ]
  },
  {
   "cell_type": "markdown",
   "metadata": {},
   "source": [
    "An even more intuitive (and faster!) way to do this is to use Numpy arrays!\n",
    "Numpy arrays allow you to pass a function an array and it will apply the function to every element of the array, which we can take advantage of.\n",
    "We can do the calculate and concatenation all in one line, but I will split it up to be more readable.\n",
    "\n",
    "We can either use Numpy's column stack (`np.column_stack()`) or concatenate (`np.concatenate()`)."
   ]
  },
  {
   "cell_type": "code",
   "execution_count": null,
   "metadata": {},
   "outputs": [],
   "source": [
    "# [:] selects every row, then -1 selects the last column\n",
    "distances = dfromp(landolt_arr[:,-1], is_milli=True)\n",
    "\n",
    "# Append the distances to the array using np.c_ (column stack)\n",
    "landolt_arr = np.column_stack((landolt_arr, distances))"
   ]
  },
  {
   "cell_type": "markdown",
   "metadata": {},
   "source": [
    "**A Note on For Loops:**\n",
    "\n",
    "While `for` loops are great, they are often the culprit of slow code!\n",
    "Whenever someone asks me to help speed up their code, the first thing I look for are redundant `for` loops that could be replaced with matrix/vector calculations."
   ]
  },
  {
   "cell_type": "markdown",
   "metadata": {},
   "source": [
    "### <---TO DO--->\n",
    "\n",
    "So by now we have distances in both `landolt_dat` and `landolt_arr`. One thing that might be useful to know about the star is its *absolute visual magnitude*, or $M_V$.\n",
    "This is defined as the apparent $V$ magnitude the star would have if it were located 10 parsecs away.\n",
    "\n",
    "Given a distance $D$ in pc and apparent $V$ magnitude, we can derive $M_V$ from the equation below:\n",
    "$$\n",
    "V-M_V = 5 \\log_{10}(D)-5\n",
    "$$\n",
    "Rearrange this equation for $M_V$ and **create a function that takes $D$ and $V$ as arguments and returns $M_V$**. Use Numpy's `np.log10()` to compute the base 10 logarithm."
   ]
  },
  {
   "cell_type": "code",
   "execution_count": null,
   "metadata": {},
   "outputs": [],
   "source": [
    "### YOUR CODE HERE"
   ]
  },
  {
   "cell_type": "markdown",
   "metadata": {},
   "source": [
    "Next, apply your function to the Numpy `ndarray` to get the absolute magnitudes for each star and concatenate it using `np.column_stack()`. Be careful you are choosing the correct column that corresponds to the $V$-band magnitude and $D$ distance. Remember if you need help, ask one of the bootcamp leads :)"
   ]
  },
  {
   "cell_type": "code",
   "execution_count": null,
   "metadata": {},
   "outputs": [],
   "source": [
    "### YOUR CODE HERE"
   ]
  },
  {
   "cell_type": "markdown",
   "metadata": {},
   "source": [
    "Print out the value of $M_V$ for the last star in your array with some \"flavor\" text to make sure you did the calculation correctly. You should get an absolute magnitude of ~2.76 mag."
   ]
  },
  {
   "cell_type": "code",
   "execution_count": null,
   "metadata": {},
   "outputs": [],
   "source": [
    "### YOUR CODE HERE"
   ]
  },
  {
   "cell_type": "markdown",
   "metadata": {},
   "source": [
    "### Saving Data\n",
    "\n",
    "Finally, let's save a subset of the data we have created since our collaborator (you in Exercise02) wants to make some figures.\n",
    "We will only need the $V$-band magnitude, $B-V$ color, $D$ distance, and $M_V$ absolute magnitude.\n",
    "While you can save a file in plain Python, `Numpy`, or `Pandas`, we will just use `Numpy`'s `np.savetxt()` function."
   ]
  },
  {
   "cell_type": "code",
   "execution_count": null,
   "metadata": {},
   "outputs": [],
   "source": [
    "# Start by gathering the columns we want to save to a new file\n",
    "columns = [7,8,10,11] # Corresponding to V, B-V, distance, and M_V\n",
    "\n",
    "landolt_slice = landolt_arr[:,columns] # This will select all rows and only the columns we want\n",
    "\n",
    "# Save the file using np.savetxt as a csv\n",
    "np.savetxt(\"landolt_subset.csv\", landolt_slice, delimiter=',', header=\"V, B-V, Distance, M_V\")"
   ]
  }
 ],
 "metadata": {
  "kernelspec": {
   "display_name": "base",
   "language": "python",
   "name": "python3"
  },
  "language_info": {
   "codemirror_mode": {
    "name": "ipython",
    "version": 3
   },
   "file_extension": ".py",
   "mimetype": "text/x-python",
   "name": "python",
   "nbconvert_exporter": "python",
   "pygments_lexer": "ipython3",
   "version": "3.9.12"
  }
 },
 "nbformat": 4,
 "nbformat_minor": 2
}
