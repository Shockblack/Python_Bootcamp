{
 "cells": [
  {
   "cell_type": "markdown",
   "metadata": {},
   "source": [
    "# Lesson 01\n",
    "\n",
    "Written By: Aiden Zelakiewicz (asz39@cornell.edu)\n",
    "\n",
    "Inspired By: tOSU ASTRO1221 HW02 by [Prof. Donald Terndrup](https://astronomy.osu.edu/people/terndrup.1)\n",
    "\n",
    "In this exercise, you will be introduced and familiarized with manipulating data in Python with a couple different packages.\n",
    "We will use selected stars from the [Landolt 1992](https://ui.adsabs.harvard.edu/abs/1992AJ....104..340L/abstract) photometric standards catalog.\n",
    "The file included in this exercise, `landolt.dat`, contains stellar names, Right Ascension, Declination, $V$-band magnitude, $B-V$ color, and parallax in milliarcsec.\n",
    "\n",
    "When you see a \"<---TO DO--->\" header in this notebook, that is an exercise for you to complete! If you are struggling and have questions, ask one of the graduate students for help and we will lead you in the right direction :D\n",
    "\n",
    "\n",
    "## Goal for This Exercise:\n",
    "\n",
    "Create a Distance vs Absolute Magnitude Diagram while learning how to\n",
    "\n",
    "1. Import data\n",
    "\n",
    "2. Create Functions\n",
    "\n",
    "3. Use if/else Statements\n",
    "\n",
    "4. Loops and list comprehension\n",
    "\n",
    "5. Perform Operations on Data"
   ]
  },
  {
   "cell_type": "markdown",
   "metadata": {},
   "source": [
    "## Importing Data\n",
    "\n",
    "Importing data, as one might guess, is necessary for most astronomy applications of Python. There are various Python packages you might find useful to do so, such as `numpy` or `pandas`."
   ]
  },
  {
   "cell_type": "markdown",
   "metadata": {},
   "source": [
    "### Using Python\n",
    "\n",
    "Using native Python to import data can be very difficult, and I will not recommend doing so.\n",
    "For completeness sake, I will include it... hesitantly.\n",
    "\n",
    "Every line is read in as a single `string` and needs to be split apart manually by default.\n",
    "If you want a line to contain various data types, you need to declare that manually which can be very time consuming."
   ]
  },
  {
   "cell_type": "code",
   "execution_count": 1,
   "metadata": {},
   "outputs": [
    {
     "name": "stdout",
     "output_type": "stream",
     "text": [
      "[92.309, 0.0, 53.0, 14.0, 0.0, 46.0, 6.0, 13.84, 0.513, 0.5778]\n",
      "Type: <class 'list'>\n"
     ]
    }
   ],
   "source": [
    "fname = \"landolt.dat\"\n",
    "\n",
    "# Read in the file\n",
    "file = open(fname, 'r')\n",
    "lines = file.readlines()\n",
    "file.close() # Make sure to close the file\n",
    "\n",
    "# Remove the first 23 lines, which includes comments and header information\n",
    "landolt_dat = lines[23:]\n",
    "\n",
    "# Split by whitespace using list comprehension\n",
    "# We will return to list comprehension later in the bootcamp\n",
    "landolt_dat = [line.split() for line in landolt_dat]\n",
    "\n",
    "# Change all columns to floats\n",
    "landolt_dat = [[float(col) for col in row] for row in landolt_dat]\n",
    "\n",
    "print(landolt_dat[0])\n",
    "\n",
    "print(\"Type:\", type(landolt_dat))"
   ]
  },
  {
   "cell_type": "markdown",
   "metadata": {},
   "source": [
    "That was very difficult! 99% of the time you should avoid using this, as packages make it much easier. Your final datatype will be a `list`, which is a very common way to organize and manipulate data."
   ]
  },
  {
   "cell_type": "markdown",
   "metadata": {},
   "source": [
    "### Using Numpy\n",
    "\n",
    "There are a handful of functions to import data using Numpy. Some key ones to remember are `np.loadtxt()` and `np.genfromtxt()`. The latter gives similar functionality to Pandas dataframes and Python dictionaries, being that you can call the columns with names.\n",
    "\n",
    "Numpy organizes data in `ndarray`s, which are basically fancy and improved `list`s. We will explore some of the benefits of Numpy `ndarray`s further on."
   ]
  },
  {
   "cell_type": "code",
   "execution_count": 2,
   "metadata": {},
   "outputs": [
    {
     "name": "stdout",
     "output_type": "stream",
     "text": [
      "Type: <class 'numpy.ndarray'>\n",
      "[92.309   0.     53.     14.      0.     46.      6.     13.84    0.513\n",
      "  0.5778]\n",
      "[ 9.2309e+01  9.2235e+01  9.2322e+01  9.2248e+01  9.2249e+01  9.2250e+01\n",
      "  9.2330e+01  9.2252e+01  9.2253e+01  9.2335e+01  9.2339e+01  9.2342e+01\n",
      "  9.2188e+01  9.2409e+01  9.2410e+01  9.2412e+01  9.2259e+01  9.2347e+01\n",
      "  9.2260e+01  9.2348e+01  9.2417e+01  9.2263e+01  9.2497e+01  9.2425e+01\n",
      "  9.2501e+01  9.2426e+01  9.2355e+01  9.2427e+01  9.2502e+01  9.2430e+01\n",
      "  9.2276e+01  9.2508e+01  9.2507e+01  9.2364e+01  9.2433e+01  9.2288e+01\n",
      "  9.3407e+01  9.3317e+01  9.3424e+01  9.4171e+01  9.4296e+01  9.4394e+01\n",
      "  9.4401e+01  9.4242e+01  9.4251e+01  9.4702e+01  9.5015e+01  9.5301e+01\n",
      "  9.5016e+01  9.5302e+01  9.5096e+01  9.5097e+01  9.5098e+01  9.5100e+01\n",
      "  9.5101e+01  9.5102e+01  9.5252e+01  9.5190e+01  9.5193e+01  9.5105e+01\n",
      "  9.5107e+01  9.5106e+01  9.5112e+01  9.5041e+01  9.5317e+01  9.5042e+01\n",
      "  9.5263e+01  9.5115e+01  9.5043e+01  9.5271e+01  9.5328e+01  9.5329e+01\n",
      "  9.5330e+01  9.5275e+01  9.5276e+01  9.5060e+01  9.5218e+01  9.5132e+01\n",
      "  9.5062e+01  9.5137e+01  9.5139e+01  9.5066e+01  9.5227e+01  9.5142e+01\n",
      "  9.5074e+01  9.5231e+01  9.5284e+01  9.5149e+01  9.5285e+01  9.5236e+01\n",
      "  9.6036e+01  9.6737e+01  9.6409e+01  9.6083e+01 -7.1000e-02  9.7249e+01\n",
      "  9.7042e+01  9.7345e+01  9.7351e+01  9.7075e+01  9.7284e+01  9.7224e+01\n",
      "  9.8961e+01  9.8966e+01  9.8556e+01  9.8557e+01  9.8563e+01  9.8978e+01\n",
      "  9.8581e+01  9.8580e+01]\n"
     ]
    }
   ],
   "source": [
    "# Importing the package numpy and giving it the alias np\n",
    "# This is a common convention and allows us to refer to numpy functions as np.function_name\n",
    "import numpy as np \n",
    "\n",
    "fname = \"landolt.dat\"\n",
    "\n",
    "landolt_arr = np.loadtxt(fname, skiprows=23) # Skip the first 23 lines of comments and header\n",
    "\n",
    "print(\"Type:\", type(landolt_arr))\n",
    "\n",
    "# You can access rows by index\n",
    "print(landolt_arr[0])\n",
    "\n",
    "# Or columns through a cheeky index method\n",
    "print(landolt_arr[:,0]) #[:] means all rows, then comma seperates the column index"
   ]
  },
  {
   "cell_type": "markdown",
   "metadata": {},
   "source": [
    "### Using Pandas\n",
    "\n",
    "Pandas is another package which has become increasingly popular in data science recently due to its easy-to-use and intuitive `DataFrames`.\n",
    "While Numpy `ndarray`s are fancy `list`s, Pandas `DataFrame`s are more akin to fancy dictionaries (`dict`s)."
   ]
  },
  {
   "cell_type": "code",
   "execution_count": 3,
   "metadata": {},
   "outputs": [
    {
     "name": "stdout",
     "output_type": "stream",
     "text": [
      "Type: <class 'pandas.core.frame.DataFrame'>\n",
      "     Star  rh  rm  rs  dd  dm  ds      V     BV     par\n",
      "0  92.309   0  53  14   0  46   6  13.84  0.513  0.5778\n",
      "1  92.235   0  53  16   0  36  22  10.60  1.638  1.3848\n",
      "2  92.322   0  53  47   0  47  41  12.68  0.528  1.4118\n",
      "3  92.248   0  54  31   0  40  20  15.35  1.128  1.9951\n",
      "4  92.249   0  54  34   0  41  10  14.33  0.699  0.9312\n"
     ]
    }
   ],
   "source": [
    "import pandas as pd\n",
    "\n",
    "fname = \"landolt.dat\"\n",
    "\n",
    "# Often pandas dataframes have the alias df\n",
    "landolt_df = pd.read_csv(fname, skiprows=22, delim_whitespace=True) # delim_whitespace=True tells pandas to split by ANY whitespace\n",
    "\n",
    "print(\"Type:\", type(landolt_df))\n",
    "\n",
    "# We can print the column names and first few rows using the .head() method\n",
    "# It's a useful way to get a quick look at the data and make sure it was read in correctly\n",
    "print(landolt_df.head())"
   ]
  },
  {
   "cell_type": "code",
   "execution_count": 4,
   "metadata": {},
   "outputs": [
    {
     "name": "stdout",
     "output_type": "stream",
     "text": [
      "0      0.513\n",
      "1      1.638\n",
      "2      0.528\n",
      "3      1.128\n",
      "4      0.699\n",
      "       ...  \n",
      "105    1.397\n",
      "106    0.416\n",
      "107    0.609\n",
      "108    0.238\n",
      "109    0.367\n",
      "Name: BV, Length: 110, dtype: float64 \n",
      "\n",
      "Star    92.3090\n",
      "rh       0.0000\n",
      "rm      53.0000\n",
      "rs      14.0000\n",
      "dd       0.0000\n",
      "dm      46.0000\n",
      "ds       6.0000\n",
      "V       13.8400\n",
      "BV       0.5130\n",
      "par      0.5778\n",
      "Name: 0, dtype: float64\n"
     ]
    }
   ],
   "source": [
    "# We can access columns by name (more common in pandas)\n",
    "print(landolt_df['BV'], '\\n') # \\n is a newline character, just to make the output easier to read\n",
    "\n",
    "# Or you can access rows by index using .iloc[row_index]\n",
    "print(landolt_df.iloc[0])"
   ]
  },
  {
   "cell_type": "markdown",
   "metadata": {},
   "source": [
    "### <---TO DO--->\n",
    "\n",
    "Included in this folder is a file titled `example.csv` in a common text file format called \"comma seperated variables\", or CSV for short.\n",
    "View the CSV to see its structure and how it is laid out.\n",
    "In the following cell, import the file using Pandas (`read_csv`).\n",
    "\n",
    "**Print the Name and Age of one of the entries.**\n",
    "\n",
    "NOTE: The delimeter (what seperates the data) isn't whitespace anymore, and is a comma!\n",
    "\n",
    "\n",
    "<details><summary>HINT:</summary>\n",
    "Both Numpy and Pandas allow an argument of delimeter=\" \" to define what the delimeter is.\n",
    "\n",
    "If you have a list inside of a list (or array in an array) in the format (i, k) you can access the kth element of the ith list using my_list[k][i]\n",
    "\n",
    "</details>"
   ]
  },
  {
   "cell_type": "code",
   "execution_count": 5,
   "metadata": {},
   "outputs": [
    {
     "name": "stdout",
     "output_type": "stream",
     "text": [
      "YOUR CODE HERE\n"
     ]
    }
   ],
   "source": [
    "# Write the path to the file\n",
    "fname = \"path/to/file.extenstion\"\n",
    "\n",
    "# Read in the file\n",
    "# YOUR CODE HERE\n",
    "\n",
    "# Print the name and age of an entry\n",
    "print(\"YOUR CODE HERE\")"
   ]
  },
  {
   "cell_type": "markdown",
   "metadata": {},
   "source": [
    "## Functions and Conditional Statements\n",
    "\n",
    "A good motto to live by when writing code is **DRY: Don't Repeat Yourself**!\n",
    "If you need to write code twice, you should create a function for it.\n",
    "Here we will create some functions to analyze the data using a couple of different methods.\n",
    "We will also explore some conditional statements that will give us flexibility and add logic into our code!\n",
    "\n",
    "Python is organized by indents, which is uncommon for many coding languages.\n",
    "This means that to tell Python that a certain block of code belongs together it must be indented together.\n",
    "This will become clearer when we create a function and use conditional statements."
   ]
  },
  {
   "cell_type": "markdown",
   "metadata": {},
   "source": [
    "### Getting Distances\n",
    "\n",
    "When observing stars close to us, we can use the observed *parallax* of the star to get a distance.\n",
    "In fact, a *parsec* is defined as the distance an object is from Earth when the observed parallax is 1 arcsecond ($1\"=\\frac{1^\\circ}{3600}$).\n",
    "\n",
    "![Image showing the definition of a parsec.](https://wwwhip.obspm.fr/~arenou/images/parsec/pc-def.jpg)\n",
    "\n",
    "Using a small angle approximation, we can get the distance ($D$) in parsecs from the parallax ($p$) in arcseconds using the formula:\n",
    "$$\n",
    "D = 1/p\n",
    "$$\n",
    "Because we will probably want to use this formula a lot, it might be a good idea to make a function for it!"
   ]
  },
  {
   "cell_type": "markdown",
   "metadata": {},
   "source": [
    "### Functions\n",
    "\n",
    "In Python, functions are declared using `def`.\n",
    "The format for creating a function is `def <function name>:`, where \"\\<function name\\>\" is relaced by a whatever you want to call your function.\n",
    "Function, and class, naming follows the same rules as variables.\n",
    "\n",
    "All code that you want included in the function must be indented so that Python knows it is part of the function, with the standard being to use a tab.\n",
    "Functions are usually closed using `return`, which can be used to output an object or just tell Python the function has ended.\n",
    "\n",
    "\n",
    "Functions should include documentation to explain what they do, called a docstring.\n",
    "Docstrings come immediately after the function declaration and are wrapped in three pairs of quotation marks (`\"\"\"DOCSTRING\"\"\"`).\n",
    "There are some common formatting styles for creating docstrings, but any kind of docstring is better than none!\n",
    "\n",
    "A second type of functions are `lambda` functions.\n",
    "These are less common but can be very quick and handy.\n",
    "They are defined and returned all in a single line of the form `function_name = lambda x: (operation on variable x)`."
   ]
  },
  {
   "cell_type": "code",
   "execution_count": 6,
   "metadata": {},
   "outputs": [],
   "source": [
    "def dfromp(p):\n",
    "    \"\"\"\n",
    "    Returns the distance to a star in parsecs given its parallax in arcseconds.\n",
    "\n",
    "    Parameters\n",
    "    ----------\n",
    "    p : float\n",
    "        parallax in arcseconds\n",
    "\n",
    "    Returns\n",
    "    -------\n",
    "    d : float\n",
    "        distance in parsecs\n",
    "    \"\"\"\n",
    "    # Above is a sample docstring in the numpy style, my personal favorite\n",
    "\n",
    "    d = 1/p\n",
    "    return d\n",
    "\n",
    "# Creating a lambda function that does the same thing\n",
    "dfromp_lambda = lambda p: 1/p"
   ]
  },
  {
   "cell_type": "code",
   "execution_count": 7,
   "metadata": {},
   "outputs": [
    {
     "name": "stdout",
     "output_type": "stream",
     "text": [
      "10.0\n",
      "10.0\n"
     ]
    }
   ],
   "source": [
    "# Now let's test the function on a parallax of 0.1 arcseconds\n",
    "p = 0.1\n",
    "\n",
    "print(dfromp(p))\n",
    "print(dfromp_lambda(p))"
   ]
  },
  {
   "cell_type": "markdown",
   "metadata": {},
   "source": [
    "Let's say someone else is using a function you created by importing your file (like we did with numpy!) and they are confused about your organization.\n",
    "Someone can simply type `help()` with the function name to view the docstring."
   ]
  },
  {
   "cell_type": "code",
   "execution_count": 8,
   "metadata": {},
   "outputs": [
    {
     "name": "stdout",
     "output_type": "stream",
     "text": [
      "Help on function dfromp in module __main__:\n",
      "\n",
      "dfromp(p)\n",
      "    Returns the distance to a star in parsecs given its parallax in arcseconds.\n",
      "    \n",
      "    Parameters\n",
      "    ----------\n",
      "    p : float\n",
      "        parallax in arcseconds\n",
      "    \n",
      "    Returns\n",
      "    -------\n",
      "    d : float\n",
      "        distance in parsecs\n",
      "\n"
     ]
    }
   ],
   "source": [
    "help(dfromp)"
   ]
  },
  {
   "cell_type": "markdown",
   "metadata": {},
   "source": [
    "### If/Else Statements\n",
    "\n",
    "One of the most important logistical tools in coding is the `if` and `else` statement.\n",
    "These can be used to execute a chunk of code `if` a given condition is met or, if not, default to something `else`.\n",
    "\n",
    "`if`/`else` statements follow the same indentation rules as functions.\n",
    "The `if` condition is also set up using the following format: `if CONDITION:`.\n",
    "`else` does not require a condition though: `else:`.\n",
    "\n",
    "We can also stack conditions using operators like `and` as well as `or`, or set different cases to check using `elif`.\n",
    "`elif` falls in between `if` and `else`, and follows the same formatting as `if`."
   ]
  },
  {
   "cell_type": "code",
   "execution_count": 9,
   "metadata": {},
   "outputs": [
    {
     "name": "stdout",
     "output_type": "stream",
     "text": [
      "x is positive\n"
     ]
    }
   ],
   "source": [
    "x = 3\n",
    "\n",
    "if x > 0:\n",
    "    print(\"x is positive\")\n",
    "elif x == 0:\n",
    "    print(\"x is zero\")\n",
    "else:\n",
    "    print(\"x is negative\")"
   ]
  },
  {
   "cell_type": "markdown",
   "metadata": {},
   "source": [
    "We can apply these statements to our distance function earlier to tell it what units we are working in.\n",
    "This can achieve this by adding an additional parameter into our function, `is_milli`.\n",
    "Parameters in functions are seperature by a comma, and can be given a default value by using an equals sign (`=`).\n",
    "Note that parameters without equal signs, namely required parameters, must be declared before optional parameters."
   ]
  },
  {
   "cell_type": "code",
   "execution_count": 10,
   "metadata": {},
   "outputs": [
    {
     "name": "stdout",
     "output_type": "stream",
     "text": [
      "Distance from parallex = 0.1 milliarcsec: 10000.0 parsecs\n",
      "Distance from parallex = 0.1 arcsec: 10.0 parsecs\n"
     ]
    }
   ],
   "source": [
    "def dfromp(p, is_milli=True):\n",
    "    \"\"\"\n",
    "    Returns the distance to a star in parsecs given its parallax in arcseconds.\n",
    "\n",
    "    Parameters\n",
    "    ----------\n",
    "    p : float\n",
    "        parallax in arcseconds\n",
    "    is_milli : bool, optional\n",
    "        whether the parallax is in milliarcseconds\n",
    "\n",
    "    Returns\n",
    "    -------\n",
    "    d : float\n",
    "        distance in parsecs\n",
    "    \"\"\"\n",
    "\n",
    "    if is_milli:\n",
    "        d = 1000/p\n",
    "    else:\n",
    "        d = 1/p\n",
    "\n",
    "    return d\n",
    "\n",
    "# Testing on the same parallax\n",
    "print('Distance from parallex = 0.1 milliarcsec:',dfromp(p), \"parsecs\")\n",
    "print('Distance from parallex = 0.1 arcsec:',dfromp(p, is_milli=False), \"parsecs\")"
   ]
  },
  {
   "cell_type": "markdown",
   "metadata": {},
   "source": [
    "### For (and while) loops\n",
    "\n",
    "Often we want to loop over a list of values to do an operation, or keep performing an operation until a condition is met.\n",
    "This is where the `for` loop and `while` loop come in.\n",
    "\n",
    "A `for` loop is run with the following syntax: `for x in y:`, where `x` is the item in each iterable of `y`.\n",
    "But what does that mean?\n",
    "Let's go back to the very start where we had the `for` loop: `for i in range(len(landolt_dat)):`.\n",
    "What we did is create an iterable of a list with length of the data file.\n",
    "We then told Python to loop over this length, essentially looping over the index location `i` of each entry.\n",
    "It then started at `i=0` (Python always starts at index=0) until `i=len(landolt_dat)-1`.\n",
    "\n",
    "A fun application for `for` loops is to loop over a `list` or `array`.\n",
    "It is identical to the above case, but we instead use a list instead of the iterable, like so:"
   ]
  },
  {
   "cell_type": "code",
   "execution_count": 11,
   "metadata": {},
   "outputs": [
    {
     "name": "stdout",
     "output_type": "stream",
     "text": [
      "1\n",
      "4\n",
      "9\n",
      "16\n",
      "25\n"
     ]
    }
   ],
   "source": [
    "my_list = [1, 2, 3, 4, 5]\n",
    "for item in my_list:\n",
    "    calculation = item**2\n",
    "    print(calculation)"
   ]
  },
  {
   "cell_type": "markdown",
   "metadata": {},
   "source": [
    "While `for` loops run until the last element, `while` loops run until a certain condition is met or you force an escape through a `break` command.\n",
    "You can often avoid using a `break` by smartly defining your `while` conditions, but it is not always possible for complex problems."
   ]
  },
  {
   "cell_type": "code",
   "execution_count": 12,
   "metadata": {},
   "outputs": [
    {
     "name": "stdout",
     "output_type": "stream",
     "text": [
      "10\n",
      "9\n",
      "8\n",
      "10\n",
      "9\n",
      "8\n"
     ]
    }
   ],
   "source": [
    "x = 10\n",
    "\n",
    "while x >7:\n",
    "    print(x)\n",
    "    x -= 1 # x-=1 is equivalent to x = x - 1\n",
    "\n",
    "\n",
    "x=10\n",
    "while x>0:\n",
    "    print(x)\n",
    "    x -= 1\n",
    "\n",
    "    if x < 8: # Breaks out of the loop when x is less than 8\n",
    "        break # Breaks out of the loop"
   ]
  },
  {
   "cell_type": "markdown",
   "metadata": {},
   "source": [
    "Now getting back to astronomy, let's say we want to calculate distances for ALL of our data.\n",
    "We now have all of the tools at our disposal to do so by combining a `for` loop with the `.append()` method.\n",
    "We can add it as a new column into our data list."
   ]
  },
  {
   "cell_type": "code",
   "execution_count": 13,
   "metadata": {},
   "outputs": [
    {
     "name": "stdout",
     "output_type": "stream",
     "text": [
      "Shape of landolt_dat before append: (110, 10)\n",
      "Shape of landolt_dat after append: (110, 11)\n"
     ]
    }
   ],
   "source": [
    "print(\"Shape of landolt_dat before append:\", np.shape(landolt_dat))\n",
    "\n",
    "for star in landolt_dat:\n",
    "\n",
    "    # Because parallax is last column, we can access it with -1\n",
    "    d = dfromp(star[-1])\n",
    "\n",
    "    # Append to end of row\n",
    "    star.append(d)\n",
    "\n",
    "print(\"Shape of landolt_dat after append:\", np.shape(landolt_dat))"
   ]
  },
  {
   "cell_type": "code",
   "execution_count": 14,
   "metadata": {},
   "outputs": [],
   "source": [
    "# Delete last column we just added\n",
    "landolt_dat = [star[:-1] for star in landolt_dat]"
   ]
  },
  {
   "cell_type": "markdown",
   "metadata": {},
   "source": [
    "#### List Comprehension\n",
    "\n",
    "Now, you may have seen me do some sneaky techniques of putting for loops in a `list`.\n",
    "This is known as **list comprehension** and it generally is a more compact and computationally efficient way of looping through lists.\n",
    "When doing the simple `for` loop, Python needs to access and load both the `list` and its `.append()` function on each iteration which takes time, especially on very large datasets.\n",
    "\n",
    "List comprehension follows a fairly simple logic structure, which is identical to the `for` loop.\n",
    "Take the cell above, where I deleted the appended data.\n",
    "The first chunk in the list is the action being taken which would have been indented in a `for` loop.\n",
    "Then, the standard `for` loop declaration is made.\n",
    "Let us re-append our data."
   ]
  },
  {
   "cell_type": "code",
   "execution_count": 15,
   "metadata": {},
   "outputs": [],
   "source": [
    "# Append the distance to the list using a list comprehension\n",
    "landolt_dat = [star + [dfromp(star[-1])] for star in landolt_dat]\n",
    "# When using LISTS, '+' concatenates lists\n",
    "# When using NUMPY ARRAYS, '+' adds the elements of the arrays. This a key difference between the two data structures"
   ]
  },
  {
   "cell_type": "markdown",
   "metadata": {},
   "source": [
    "An even more intuitive (and faster!) way to do this is to use Numpy arrays!\n",
    "Numpy arrays allow you to pass a function an array and it will apply the function to every element of the array, which we can take advantage of.\n",
    "We can do the calculate and concatenation all in one line, but I will split it up to be more readable.\n",
    "\n",
    "We can either use Numpy's column stack (`np.column_stack()`) or concatenate (`np.concatenate()`)."
   ]
  },
  {
   "cell_type": "code",
   "execution_count": 16,
   "metadata": {},
   "outputs": [
    {
     "name": "stdout",
     "output_type": "stream",
     "text": [
      "Shape of landolt_arr after append: (110, 11)\n"
     ]
    }
   ],
   "source": [
    "distances = dfromp(landolt_arr[:,-1])\n",
    "\n",
    "# Append the distances to the array using np.c_ (column stack)\n",
    "landolt_arr = np.column_stack((landolt_arr, distances))"
   ]
  },
  {
   "cell_type": "markdown",
   "metadata": {},
   "source": [
    "**A Note on For Loops:**\n",
    "\n",
    "While `for` loops are great, they are often the culprit of slow code!\n",
    "Whenever someone asks me to help speed up their code, the first thing I look for are redundant `for` loops that could be replaced with matrix/vector calculations."
   ]
  },
  {
   "cell_type": "markdown",
   "metadata": {},
   "source": [
    "### <---TO DO--->\n",
    "\n",
    "So by now we have distances in both `landolt_dat` and `landolt_arr`. One thing that might be useful to know about the star is its *absolute visual magnitude*, or $M_V$.\n",
    "This is defined as the apparent $V$ magnitude the star would have if it were located 10 parsecs away.\n",
    "\n",
    "Given a distance $D$ in pc, we can derive $M_V$ from the equation below:\n",
    "$$\n",
    "V-M_V = 5 \\log_{10}(D)-5\n",
    "$$\n",
    "Rearrange this equation for $M_V$ and **create a function that takes $D$ and $V$ as arguments and returns $M_V$**. Use Numpy's `np.log10()` to compute the base 10 logarithm."
   ]
  },
  {
   "cell_type": "code",
   "execution_count": null,
   "metadata": {},
   "outputs": [],
   "source": [
    "### YOUR CODE HERE"
   ]
  },
  {
   "cell_type": "markdown",
   "metadata": {},
   "source": [
    "Next, apply your function to either the `list` or Numpy `ndarray` to get the absolute magnitudes for each star. If doing the `list`, use list comprehension rather than a traditional `for` loop. Remember if you need help, ask one of the bootcamp leads :)"
   ]
  },
  {
   "cell_type": "code",
   "execution_count": null,
   "metadata": {},
   "outputs": [],
   "source": [
    "### YOUR CODE HERE"
   ]
  }
 ],
 "metadata": {
  "kernelspec": {
   "display_name": "base",
   "language": "python",
   "name": "python3"
  },
  "language_info": {
   "codemirror_mode": {
    "name": "ipython",
    "version": 3
   },
   "file_extension": ".py",
   "mimetype": "text/x-python",
   "name": "python",
   "nbconvert_exporter": "python",
   "pygments_lexer": "ipython3",
   "version": "3.9.12"
  }
 },
 "nbformat": 4,
 "nbformat_minor": 2
}
