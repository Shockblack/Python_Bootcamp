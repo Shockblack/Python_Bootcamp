{
 "cells": [
  {
   "cell_type": "markdown",
   "metadata": {},
   "source": [
    "# Exercise 02 | Matplotlib\n",
    "\n",
    "Written By: Aiden Zelakiewicz (asz39@cornell.edu)\n",
    "\n",
    "In this exercise, you will get a comprehensive overview of data visualization using the Python package Matplotlib.\n",
    "This will hopefully give you everything you need to make professional, paper-ready figures that will get your collaborators, advisors, friends, parents, pets, and local barista to react like this:\n",
    "\n",
    "![uh](https://media2.giphy.com/media/v1.Y2lkPTc5MGI3NjExZWdpemkwZmY1MXk3NHhmeGduZXlrMGprcnFtdGlzZHI2YnZxMmU0aiZlcD12MV9pbnRlcm5hbF9naWZfYnlfaWQmY3Q9Zw/V0IdVIIW1y5d6/giphy.webp)\n",
    "\n",
    "We will start from the most basic plotting and slowly build on it more and more to make it more readable and asthetically pleasing.\n",
    "\n",
    "When you see a \"<---TO DO--->\" header in this notebook, that is an exercise for you to complete! If you are struggling and have questions, ask one of the graduate students for help and we will lead you in the right direction :D\n",
    "\n",
    "## Goals for this exercise\n",
    "\n",
    "1. Basics of Matplotlib\n",
    "\n",
    "2. Subplots and Gridspec\n",
    "\n",
    "3. Plot Styles"
   ]
  },
  {
   "cell_type": "markdown",
   "metadata": {},
   "source": [
    "## Basics of Matplotlib\n",
    "\n",
    "`Matplotlib` is the most used plotting package within Python, with most plots you see in published astronomical work being created using the package. `Matplotlib` has amazing integration with other packages such as `Numpy`, `Scipy` (which we will get to), `Pandas`, and many others building around/with it.\n",
    "\n",
    "`Matplotlib`'s primary interface that is used within Python is `pyplot`, which makes `Matplotlib` work similarly to the plotting equivalent within the coding language `MATLAB`. I will delve into this structure further, but first let us import `Matplotlib.pyplot` using the standard naming alias, `plt`."
   ]
  },
  {
   "cell_type": "code",
   "execution_count": null,
   "metadata": {},
   "outputs": [],
   "source": [
    "# Import matplotlib\n",
    "import matplotlib.pyplot as plt # plt is the conventional name for matplotlib.pyplot\n",
    "\n",
    "# Import other packages\n",
    "import numpy as np"
   ]
  },
  {
   "cell_type": "markdown",
   "metadata": {},
   "source": [
    "Now, let's import the Landolt data we saved to file from the last exercise. This file contains $V$, $B-V$, $D$, and $M_V$. The first plot we will make will be a Color-Magnitude Diagram (CMD) of the Landolt stars."
   ]
  },
  {
   "cell_type": "code",
   "execution_count": null,
   "metadata": {},
   "outputs": [],
   "source": [
    "# Skip the first row, which is the header\n",
    "# Has columns of V, B-V, Distance, M_V\n",
    "landolt = np.loadtxt('landolt_subset.csv', delimiter=',', skiprows=1)\n",
    "\n",
    "# Pring the first 5 rows of the data\n",
    "print(landolt[:5])"
   ]
  },
  {
   "cell_type": "markdown",
   "metadata": {},
   "source": [
    "### \"Quick and Dirty\" Plotting\n",
    "\n",
    "The most basic plotting function we can use is `plt.plot(x, y)`, which will create a `Matplotlib` `figure` and `axes` automatically under the hood. Later on, we will manipulate these objects individually and go into what they represent. Jupyter notebooks will automatically show plots in the output, but traditionally you need to include a `plt.show()` to print the figure.\n",
    "\n",
    "Let us plot our CMD of $B-V$ vs $V$ for the Landolt stars in the *most* basic way."
   ]
  },
  {
   "cell_type": "code",
   "execution_count": null,
   "metadata": {},
   "outputs": [],
   "source": [
    "# Plot the data\n",
    "plt.plot(landolt[:,1], landolt[:,0])\n",
    "\n",
    "# Show the plot\n",
    "plt.show()"
   ]
  },
  {
   "cell_type": "markdown",
   "metadata": {},
   "source": [
    "Well that doesn't look pretty! All of the data is connected by lines instead of being discretized points. We can plot this as a scatter plot either by telling `plt.plot()` that we want markers or by using a different function. `plt.scatter()`."
   ]
  },
  {
   "cell_type": "code",
   "execution_count": null,
   "metadata": {},
   "outputs": [],
   "source": [
    "# The 'o' argument makes large circles\n",
    "plt.plot(landolt[:,1], landolt[:,0], 'o')\n",
    "\n",
    "plt.show()"
   ]
  },
  {
   "cell_type": "code",
   "execution_count": null,
   "metadata": {},
   "outputs": [],
   "source": [
    "# Using plt.scatter\n",
    "plt.scatter(landolt[:,1], landolt[:,0])\n",
    "\n",
    "plt.show()"
   ]
  },
  {
   "cell_type": "markdown",
   "metadata": {},
   "source": [
    "`Matplotlib`'s default color scheme isn't very appealing, and you may instead want your data to be black. Most functions within `Matplotlib` allow the `c=''` argument to change the color (alias for `color=''`). You can also adjust the type of marker you are using `marker=''`, which is useful for when you are displaying different types of data on the same axes. A complete list of markers can be found at https://matplotlib.org/stable/api/markers_api.html"
   ]
  },
  {
   "cell_type": "code",
   "execution_count": null,
   "metadata": {},
   "outputs": [],
   "source": [
    "# Changing the color to black (k) and the marker to a triangle (^)\n",
    "plt.scatter(landolt[:,1], landolt[:,0], c='k', marker='^')\n",
    "\n",
    "plt.show()"
   ]
  },
  {
   "cell_type": "markdown",
   "metadata": {},
   "source": [
    "We need units on this plot though! Others who look at your figures will not know what you are plotting unless you give them labels. We can add axis labels or even a title, although often in published worked plots don't have titles due to the existance of captions. `plt.xlabel()` and `plt.ylabel()` will do the trick! A cool feature of `Matplotlib` is your plots can includ LaTeX by using the usual LaTeX notation of `$Equation$`."
   ]
  },
  {
   "cell_type": "code",
   "execution_count": null,
   "metadata": {},
   "outputs": [],
   "source": [
    "# Changing the color to black (k) and the marker to a triangle (^)\n",
    "plt.scatter(landolt[:,1], landolt[:,0], c='k', marker='^')\n",
    "\n",
    "# Note the dollar signs for LaTeX math mode\n",
    "plt.xlabel('$B-V$ Color')\n",
    "plt.ylabel('$V$-band magnitude')\n",
    "plt.title('CMD of Landolt Data')\n",
    "plt.show()"
   ]
  },
  {
   "cell_type": "markdown",
   "metadata": {},
   "source": [
    "Often you want to plot more than one thing on a single plot. You can easily achieve this by just adding more plot calls and they don't need to be the same type of plotting function. Next we will split up the data and add a horizontal line at $V=14$ mag using `plt.axhline(y, xmin, xmax)` with a `linestyle`, or `ls` attribute to make it dashed."
   ]
  },
  {
   "cell_type": "code",
   "execution_count": null,
   "metadata": {},
   "outputs": [],
   "source": [
    "# Let's split up the data into two groups\n",
    "plt.scatter(landolt[:20,1], landolt[:20,0], c='k', marker='^')\n",
    "plt.scatter(landolt[20:,1], landolt[20:,0], c='r', marker='o') # r = red\n",
    "\n",
    "plt.axhline(14, -1, 3, c='b', ls='--') # b = blue, -- is a dashed line\n",
    "\n",
    "# Note the dollar signs for LaTeX math mode\n",
    "plt.xlabel('$B-V$ Color')\n",
    "plt.ylabel('$V$-band magnitude')\n",
    "plt.title('CMD of Landolt Data')\n",
    "plt.show()"
   ]
  },
  {
   "cell_type": "markdown",
   "metadata": {},
   "source": [
    "#### Error Bars\n",
    "\n",
    "We often will have errors in our data, which we can display using `plt.errorbar()` function! We just pass it our data like any other function, then include the `yerr=` or `xerr=` tag."
   ]
  },
  {
   "cell_type": "code",
   "execution_count": null,
   "metadata": {},
   "outputs": [],
   "source": [
    "# Create four sets of mock data\n",
    "x = np.linspace(0, 10, 100)\n",
    "ys = [np.sin(x), np.cos(x), np.tan(x), np.exp(x)]\n",
    "\n",
    "# Add some random noise\n",
    "y_err = [np.random.normal(0.5, .1, size=x.size) for y in ys]\n",
    "\n",
    "# Plot the data\n",
    "plt.errorbar(x, ys[0], yerr=y_err[0], c='k')\n",
    "plt.errorbar(x, ys[1], yerr=y_err[1], c='r')\n",
    "\n",
    "# We can also limit the x-axis to a specific range using plt.xlim(xmin, xmax)\n",
    "# There is also an equivalent plt.ylim(ymin, ymax) for the y-axis\n",
    "plt.xlim(0, 10)\n",
    "\n",
    "plt.show()"
   ]
  },
  {
   "cell_type": "markdown",
   "metadata": {},
   "source": [
    "#### Images\n",
    "\n",
    "Sometimes you want to display 2D like a picture or maybe a density map. The function `plt.imshow()` is very useful for this purpose!"
   ]
  },
  {
   "cell_type": "code",
   "execution_count": null,
   "metadata": {},
   "outputs": [],
   "source": [
    "# Import astronomical image from astropy\n",
    "# We will come back to astropy later!\n",
    "from astropy.io import fits\n",
    "from astropy.utils.data import get_pkg_data_filename\n",
    "image_file = get_pkg_data_filename('tutorials/FITS-images/HorseHead.fits')\n",
    "image_data = fits.getdata(image_file, ext=0)\n",
    "\n",
    "print(image_data.shape)"
   ]
  },
  {
   "cell_type": "code",
   "execution_count": null,
   "metadata": {},
   "outputs": [],
   "source": [
    "# Display the image\n",
    "fig = plt.figure(figsize=(6,6))\n",
    "plt.imshow(image_data, cmap='gray')\n",
    "\n",
    "plt.show()"
   ]
  },
  {
   "cell_type": "markdown",
   "metadata": {},
   "source": [
    "We can customize the colormap using the `cmap` option. There are many to chose from and some are even considered \"standard\" in some fields, such as heatmaps for interstellar medium (ISM) extinction maps! A full list is available at https://matplotlib.org/stable/users/explain/colors/colormaps.html. Often, the color of your image corresponds to some kind of data. In that case, you may want a colorbar to know the scale of each color! There are some more advanced uses of this, but the most basic way to add a colorbar is using `plt.colorbar()`."
   ]
  },
  {
   "cell_type": "code",
   "execution_count": null,
   "metadata": {},
   "outputs": [],
   "source": [
    "# Display the image\n",
    "fig = plt.figure(figsize=(6,6))\n",
    "\n",
    "plt.imshow(image_data, cmap='hot')\n",
    "plt.colorbar()\n",
    "\n",
    "plt.show()"
   ]
  },
  {
   "cell_type": "markdown",
   "metadata": {},
   "source": [
    "## Subplots\n",
    "\n",
    "Often you may want to create more than one figure. This is where we will use `Matplotlib`'s `plt.subplots()`. Matplotlib differentiates between `figures` and `axes`, in that a `figure` refers to the entire plotting area while an `axis` is a single plot. This will make more sense when we use it.\n",
    "\n",
    "`plt.subplots(nrows, ncols)` will return a tuple that contains the `figure` object and an `ndarray` of the axes, for which there will be a total of $nrows\\times ncols$. The `axes` will be in matric notation, so that there is a grid of axes that matches what it appears visually. The call necessary to modify axes attributes are slightly different than what we did before. Where before we simply did `plt.title()`, with `axes` we must do `ax.set_title()`. This also goes for things like `ax.set_xlim()` to set the limit of your data or `ax.set_ylabel()`. \n",
    "\n",
    "We can also add in-plot labels through a legend into our figure! In the plotting functions, we can add a call `label=''` which will add a label to that specific plotting element. Then, we can use `ax.legend()` (or `plt.legend()` without subplots) to display it! It will show the label you added along with the symbols on the figure it corresponds to."
   ]
  },
  {
   "cell_type": "code",
   "execution_count": null,
   "metadata": {},
   "outputs": [],
   "source": [
    "fig, axes = plt.subplots(2, 2, figsize=(10, 10)) # figsize determines the size of the figure\n",
    "\n",
    "# Now we can plot each set of data on a different axis with their own labels\n",
    "axes[0, 0].plot(x, ys[0], c='red', ls='--', label='sin(x)') # Create a line for the sin\n",
    "axes[0, 0].set_title('sin(x)')\n",
    "axes[0, 0].set_xlim(0, 10) # Limit the x-axis to 0 to 10\n",
    "axes[0, 0].legend()\n",
    "\n",
    "axes[0, 1].plot(x, ys[1], c='purple', ls='-.', label='cos(x)') # Create a line for the cos\n",
    "axes[0, 1].set_title('cos(x)')\n",
    "axes[0, 0].set_xlim(0, 10)\n",
    "axes[0, 1].legend()\n",
    "\n",
    "axes[1, 0].plot(x, ys[2], c='k', label='tan(x)') # Create a line for the tan\n",
    "axes[1, 0].set_title('tan(x)')\n",
    "axes[0, 0].set_xlim(0, 10)\n",
    "axes[1, 0].legend()\n",
    "\n",
    "axes[1, 1].scatter(x, ys[3], c='skyblue', marker='v', label='exp(x)') # Create a scatter plot for the exp\n",
    "axes[1, 1].set_title('exp(x)')\n",
    "axes[0, 0].set_xlim(0, 10)\n",
    "axes[1, 1].legend()\n",
    "\n",
    "plt.show()"
   ]
  },
  {
   "cell_type": "markdown",
   "metadata": {},
   "source": [
    "Notice how we typed out each line to plot? Because the `axes` objects are in an `ndarray`, and because of smart organization of our functions (putting them in a list), we can shorten the amount of work necessary to plot. This becomes very useful if there is a lot of repeat information you don't want to type over and over."
   ]
  },
  {
   "cell_type": "code",
   "execution_count": null,
   "metadata": {},
   "outputs": [],
   "source": [
    "fig, axes = plt.subplots(2, 2, figsize=(10, 10)) # figsize determines the size of the figure\n",
    "\n",
    "# Loop over the flattened (1D) array of axes\n",
    "for i in range(len(axes.flat)):\n",
    "    axes.flat[i].plot(x, ys[i], c='k')\n",
    "\n",
    "plt.show()"
   ]
  },
  {
   "cell_type": "markdown",
   "metadata": {},
   "source": [
    "### <---TO DO--->\n",
    "\n",
    "By being clever, we can still incorporate our titles into that looped plotting element. Do the same as above, but include titles into your plots from inside of the `for` loop as well as labels with legends."
   ]
  },
  {
   "cell_type": "code",
   "execution_count": null,
   "metadata": {},
   "outputs": [],
   "source": [
    "### YOUR CODE HERE"
   ]
  },
  {
   "cell_type": "markdown",
   "metadata": {},
   "source": [
    "### Gridspec\n",
    "\n",
    "The one downside of default subplots is that all of the subplots are the same size! This can be a pain for some plotting features, like if we want to add a small residual plot below or main figure. This is where `gridspec` is amazing! It creates a grid frame for which your subplots will be placed into. Setting the `height_ratios` or `width_ratios` argument tells `gridspec` the size ratio of each axis."
   ]
  },
  {
   "cell_type": "code",
   "execution_count": null,
   "metadata": {},
   "outputs": [],
   "source": [
    "# import gridspec\n",
    "from matplotlib.gridspec import GridSpec as gs\n",
    "\n",
    "fig = plt.figure(figsize=(10, 8))\n",
    "\n",
    "# Create a 2x2 grid\n",
    "grid = gs(2, 1, height_ratios=[3, 1]) # 3:1 height ratio\n",
    "\n",
    "# Create axes\n",
    "ax1 = fig.add_subplot(grid[0])\n",
    "ax2 = fig.add_subplot(grid[1])\n",
    "\n",
    "# Add noise to the data using a normal distribution\n",
    "noisy_data = ys[0]+np.random.normal(0, 0.1, size=x.size)\n",
    "\n",
    "# Plot some noisy data\n",
    "ax1.scatter(x, noisy_data, c='k')\n",
    "ax1.plot(x, np.sin(x), c='r')\n",
    "ax1.set_ylabel('y')\n",
    "\n",
    "# Plot the residuals\n",
    "# Yes this is just the y_err we created earlier don't come at me\n",
    "ax2.plot(x, noisy_data-np.sin(x), c='r')\n",
    "ax2.set_ylabel('Residuals')\n",
    "ax2.set_xlabel('x')\n",
    "\n",
    "plt.show()"
   ]
  },
  {
   "cell_type": "markdown",
   "metadata": {},
   "source": [
    "## Plot Styles\n",
    "\n",
    "Even with labels, legends, titles, and pretty colors, our plots don't look very professional. The sizes, fonts, tick marks, and other stylized parameters would need to be adjusted. This can be done either through adjusted your matplotlib parameters through `plt.rcParams.update({'font.size': 16})` or by setting them for individual elements, such as `plt.set_xlabel(\"\", fontsize=16)`.\n",
    "\n",
    "There are a lot of different ways to customize your plots, and I recommend exploring the official `Matplotlib` webpage if you need something specific or begging someone on Stack Exchange."
   ]
  },
  {
   "cell_type": "code",
   "execution_count": null,
   "metadata": {},
   "outputs": [],
   "source": [
    "plt.scatter(landolt[:,1], landolt[:,0], c='k', marker='^')\n",
    "plt.xlabel('$B-V$ Color', fontsize=16)\n",
    "plt.ylabel('$V$-band magnitude', fontsize=16)\n"
   ]
  },
  {
   "cell_type": "markdown",
   "metadata": {},
   "source": [
    "We can also adjust things like the tick markers and font families."
   ]
  },
  {
   "cell_type": "code",
   "execution_count": null,
   "metadata": {},
   "outputs": [],
   "source": [
    "plt.rcParams.update({'font.size': 16, 'font.family': 'Times New Roman'})\n",
    "\n",
    "plt.scatter(landolt[:,1], landolt[:,0], c='k', marker='^')\n",
    "plt.xlabel('$B-V$ Color')\n",
    "plt.ylabel('$V$-band magnitude')\n",
    "\n",
    "# Tick parameters for all axes\n",
    "plt.tick_params(axis='both', direction='in', length=10, width=2)"
   ]
  },
  {
   "cell_type": "markdown",
   "metadata": {},
   "source": [
    "### Style Sheets\n",
    "\n",
    "While have the ability to manually modify your figures appearance is super useful, it would be great if we could use a set of predefined options. This is where style sheets come in. `Matplotlib` has a lot of preinstalled style sheets you can call before plotting, or you can make one of your own!\n",
    "\n",
    "Included in this package is the style sheet I use, titles `az-paper-twocol.mplstyle`. This style sheet was slightly modified from one created by Azalee Bostroem and was pulled from the repository [Astronomical Data](https://github.com/AllenDowney/AstronomicalData). You can call style sheets by using the `plt.style.use('style-sheet-name')` function. If you save a style sheet to your style library, you can just call it by the sheet name instead of having to define the path. Let's see how easy this is!"
   ]
  },
  {
   "cell_type": "code",
   "execution_count": null,
   "metadata": {},
   "outputs": [],
   "source": [
    "plt.style.use('./az-paper-twocol.mplstyle') # ./ means look in the current directory\n",
    "\n",
    "plt.scatter(landolt[:,1], landolt[:,0])\n",
    "plt.xlabel('$B-V$ Color')\n",
    "plt.ylabel('$V$-band magnitude')\n",
    "\n",
    "plt.show()"
   ]
  },
  {
   "cell_type": "markdown",
   "metadata": {},
   "source": [
    "Look how much better this looks with only using a single line! You can look inside of the `az-paper-twocol` style sheet to see how many parameters were adjusted with that single line call. Setting up your own style sheet can be very rewarding and save you loads of time in the future."
   ]
  },
  {
   "cell_type": "markdown",
   "metadata": {},
   "source": [
    "### <---TO DO--->\n",
    "\n",
    "Now, it is time to put your plotting skills to the test! In the previous exercise, we calculate the distance $D$ in parsecs and absolute visual magnitude $M_V$. Let's investigate whether there is a correlation between these two parameters by plotting them against each other! Remember the subset file we included has columns of $V$, $B-V$, $D$, $M_V$.\n",
    "\n",
    "While creating your plots, try using one of `Matplotlib`'s default style sheets, which a list can be found [here](https://matplotlib.org/stable/gallery/style_sheets/style_sheets_reference.html). Make sure to include labels to tell the reader what each axis represents. You can also save your figure after you create it, using `plt.savefig('path/to/filename.png')` by putting in the name anf file extension you want it to have (can do png, jpeg, pdf, etc)."
   ]
  },
  {
   "cell_type": "code",
   "execution_count": null,
   "metadata": {},
   "outputs": [],
   "source": [
    "### YOUR CODE HERE"
   ]
  }
 ],
 "metadata": {
  "kernelspec": {
   "display_name": "py312",
   "language": "python",
   "name": "python3"
  },
  "language_info": {
   "codemirror_mode": {
    "name": "ipython",
    "version": 3
   },
   "file_extension": ".py",
   "mimetype": "text/x-python",
   "name": "python",
   "nbconvert_exporter": "python",
   "pygments_lexer": "ipython3",
   "version": "3.12.3"
  }
 },
 "nbformat": 4,
 "nbformat_minor": 2
}
