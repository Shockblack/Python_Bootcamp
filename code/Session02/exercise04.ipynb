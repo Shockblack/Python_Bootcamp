{
 "cells": [
  {
   "cell_type": "markdown",
   "metadata": {},
   "source": [
    "# Exercise 04 | Classes\n",
    "\n",
    "Written By: Aiden Zelakiewicz (asz39@cornell.edu)\n",
    "\n"
   ]
  },
  {
   "cell_type": "markdown",
   "metadata": {},
   "source": [
    "As you might already know, Python is what is called an object-oriented language. Things like Numpy `ndarrays` and \"vanilla\" `dictionaries` are both objects, with methods and properties. `Classes` are a powerful component to Python, bundling data and functionality together. One of the most intuitive ways to think about classes is to imagine them as a blueprint for creating objects.\n",
    "\n",
    "### Goals for this exercise\n",
    "\n",
    "1. Create a class\n",
    "\n",
    "2. Methods and Attributes\n",
    "\n",
    "3. Inheritance\n",
    "\n",
    "4. Using Classes/Functions of other files"
   ]
  },
  {
   "cell_type": "code",
   "execution_count": null,
   "metadata": {},
   "outputs": [],
   "source": [
    "# Importing packages\n",
    "import numpy as np\n",
    "import matplotlib.pyplot as plt\n",
    "import astropy.units as u\n",
    "import astropy.constants as c"
   ]
  },
  {
   "cell_type": "markdown",
   "metadata": {},
   "source": [
    "## Basics of Classes\n",
    "\n",
    "Classes are created using the logic `class class_name:`, with everything indented below being included. Almost every time you create a class, you will start with an `__init__` function. This tells the class what to do upon its creation. When creating a function within a class, you need to pass the function `self` to let the class know this function is part of the object it is creating. Variables within the class can be assigned `self.var` to allow the variable to be callable outside of the class. Otherwise, we cannot call the variable from the object.\n",
    "\n",
    "Let's create a simple class for stars to display this difference between local and global variables."
   ]
  },
  {
   "cell_type": "code",
   "execution_count": null,
   "metadata": {},
   "outputs": [],
   "source": [
    "# Create sample class with properties\n",
    "class star:\n",
    "\n",
    "    def __init__(self, name, mass, radius, temperature, color=None):\n",
    "        \"\"\"Object to store star properties\n",
    "\n",
    "        Parameters\n",
    "        ----------\n",
    "        name : str\n",
    "            Star name\n",
    "        mass : float\n",
    "            Star mass in solar masses\n",
    "        radius : float\n",
    "            Star radius in solar radii\n",
    "        temperature : float\n",
    "            Star temperature in Kelvin\n",
    "        color : str, optional\n",
    "            Star color\n",
    "        \"\"\"\n",
    "        self.name = name\n",
    "        self.mass = mass\n",
    "        self.radius = radius\n",
    "        self.temperature = temperature"
   ]
  },
  {
   "cell_type": "code",
   "execution_count": null,
   "metadata": {},
   "outputs": [],
   "source": [
    "# Create Sun object from star class\n",
    "sun = star('Sun', mass=1, radius=1, temperature=5778, color='yellow')\n",
    "\n",
    "# Grab properties of Sun\n",
    "print(f\"Mass of {sun.name}: {sun.mass} solar masses\")\n",
    "\n",
    "# Create a list of stars\n",
    "trappist1 = star('TRAPPIST-1', 0.09, 0.12, 2566)\n",
    "\n",
    "# Grab properties of TRAPPIST-1\n",
    "print(f\"{trappist1.name} is {sun.temperature-trappist1.temperature} K cooler than the {sun.name}.\")"
   ]
  },
  {
   "cell_type": "code",
   "execution_count": null,
   "metadata": {},
   "outputs": [],
   "source": [
    "# Try and get color of sun (this should fail, don't worry)\n",
    "print(sun.color)"
   ]
  },
  {
   "cell_type": "markdown",
   "metadata": {},
   "source": [
    "## Methods and Attributes\n",
    "\n",
    "So far, you have used `methods` and `attributes` of objects without even realizing it. When we used `astropy` to get the coordinate transformations, we called `coords.galactic`. This is what is called an `attribute`, and it describes something about the object. We also used `.to()` when we were trying to change the units, which is a `method` of the units object. `Methods` have parentheses because usually you are passing something to the method, while `attributes` are more akin to variables.\n",
    "\n",
    "An intuitive way of thinking of `methods` and `attributes` is to think of them as verbs and nouns, respectfully. If I am shopping for a car, I might want to know its horsepower. I would likely access that from a `car.horsepower` attribute. While I am test driving that car, I might want to floor it and speed up. In Python, I would likely do that through `car.increase_speed(speed=10)` to increase the speed by 10 miles per hour. "
   ]
  },
  {
   "cell_type": "code",
   "execution_count": null,
   "metadata": {},
   "outputs": [],
   "source": [
    "class star:\n",
    "\n",
    "    def __init__(self, name, mass, radius, temperature):\n",
    "        self.name = name\n",
    "\n",
    "        # Check if values are in Astropy units\n",
    "        self.mass = self.check_units(mass, u.M_sun)\n",
    "        self.radius = self.check_units(radius, u.R_sun)\n",
    "        self.temperature = self.check_units(temperature, u.K)\n",
    "\n",
    "    # Function to check if units are in Astropy units\n",
    "    # Static methods are methods that are bound to the class rather than the object of the class\n",
    "    @staticmethod\n",
    "    def check_units(value, unit):\n",
    "        if not isinstance(value, u.Quantity):\n",
    "            return value*unit\n",
    "        else:\n",
    "            return value\n",
    "    \n",
    "    # Function to calculate luminosity\n",
    "    # Callable as an attribute, star.luminosity\n",
    "    @property\n",
    "    def luminosity(self):\n",
    "        return (4*c.sigma_sb*np.pi*(self.radius**2)*(self.temperature**4)).to(u.W)\n",
    "    "
   ]
  },
  {
   "cell_type": "code",
   "execution_count": null,
   "metadata": {},
   "outputs": [],
   "source": [
    "# Create Sun object from star class\n",
    "sun = star('Sun', 1, 1, 5778)\n",
    "\n",
    "# Grab luminosity of Sun\n",
    "sun.luminosity"
   ]
  },
  {
   "cell_type": "markdown",
   "metadata": {},
   "source": [
    "## Heirarchical Inheritance\n",
    "\n",
    "We can create classes that inherit the properties and methods of another class. We accomplish this by having a `base_class` that is inherited by a `derived_class`. To do this, you would pass the base class to the derived class, like `class derived_class(base_class):`. We can call the `__init__` of the parent class by using `super().__init__()` in our initialization. `super()` refers to the parent/base/super class that we are inheriting.\n",
    "\n",
    "Let's look at this in practice by creating specialized examples of stars for our `star` class by creating a class for white dwarfs."
   ]
  },
  {
   "cell_type": "code",
   "execution_count": null,
   "metadata": {},
   "outputs": [],
   "source": [
    "# Create heirarchical class structure\n",
    "class whitedwarf(star):\n",
    "    def __init__(self, name, mass, radius, temperature):\n",
    "        # Call the __init__ method of the parent class\n",
    "        super().__init__(name, mass, radius, temperature)\n",
    "        \n",
    "    # Function to estimate the radius of a white dwarf\n",
    "    @property\n",
    "    def R_from_M(self, mu_e=2):\n",
    "        M_ch = 1.435*u.M_sun * (2/mu_e)**2\n",
    "        return 0.0126*u.R_sun * (2/mu_e)**(5/3) * (self.mass/u.M_sun)**(-1/3) * (1-(self.mass/M_ch)**(4/3))**(1/2)"
   ]
  },
  {
   "cell_type": "code",
   "execution_count": null,
   "metadata": {},
   "outputs": [],
   "source": [
    "wd = whitedwarf('WD J0914+1914', 0.56, 0.015, 27700)\n",
    "\n",
    "# Grab the numerical radius of WD J0914+1914\n",
    "wd.R_from_M"
   ]
  },
  {
   "cell_type": "markdown",
   "metadata": {},
   "source": [
    "We can assign this to a value in the object and use that to compare numerical/analytical."
   ]
  },
  {
   "cell_type": "code",
   "execution_count": null,
   "metadata": {},
   "outputs": [],
   "source": [
    "wd.r_num = wd.R_from_M\n",
    "\n",
    "# Error in numerical radius of WD J0914+1914 compared to the given radius\n",
    "print(f\"Error in numerical radius of WD J0914+1914: {abs(wd.r_num-wd.radius)/wd.radius*100:.2f}%\")"
   ]
  },
  {
   "cell_type": "markdown",
   "metadata": {},
   "source": [
    "## Importing Your Own Files\n",
    "\n",
    "In another file, `planet_class.py`, I have created a class for a planet. Note how the file format of this is just `.py` while the notebooks have the `.ipynb` format (stands for \"Interactive Python (iPython) NoteBook\"). Importing your own file is as simple as using the usual `import` command, followed by the file name. We can either import the whole file or just the class from it."
   ]
  },
  {
   "cell_type": "code",
   "execution_count": null,
   "metadata": {},
   "outputs": [],
   "source": [
    "from planet_class import planet\n",
    "\n",
    "help(planet)"
   ]
  },
  {
   "cell_type": "markdown",
   "metadata": {},
   "source": [
    "That's it, it really was that simple. Now we can use the class like we would any other class!"
   ]
  },
  {
   "cell_type": "markdown",
   "metadata": {},
   "source": [
    "### <---TO DO--->\n",
    "\n",
    "Below, create an object for Earth using the new planet object. Look at the documentation for the planet class, making sure you input all of the required items. From that Earth object, print its surface gravity, equilibrium temperature, and density. There is also a method to create a graphic that shows the relative sizes of the planet to star. Find what that method is called and call it.\n",
    "\n",
    "Also, do this for another planet-star combo of your choice. I recommend doing a rocky planet around an M-dwarf. You can use the [NASA Exoplanet Archive](https://exoplanetarchive.ipac.caltech.edu/) to get planetary and stellar values."
   ]
  },
  {
   "cell_type": "code",
   "execution_count": null,
   "metadata": {},
   "outputs": [],
   "source": [
    "### YOUR CODE HERE"
   ]
  }
 ],
 "metadata": {
  "kernelspec": {
   "display_name": "base",
   "language": "python",
   "name": "python3"
  },
  "language_info": {
   "codemirror_mode": {
    "name": "ipython",
    "version": 3
   },
   "file_extension": ".py",
   "mimetype": "text/x-python",
   "name": "python",
   "nbconvert_exporter": "python",
   "pygments_lexer": "ipython3",
   "version": "3.9.12"
  }
 },
 "nbformat": 4,
 "nbformat_minor": 2
}
