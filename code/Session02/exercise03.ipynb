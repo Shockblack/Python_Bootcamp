{
 "cells": [
  {
   "cell_type": "markdown",
   "metadata": {},
   "source": [
    "# Exercise 03 | Packages\n",
    "\n",
    "Written By: Aiden Zelakiewicz (asz39@cornell.edu)\n",
    "\n",
    "Inspired By: [2022 Cornell REU Python Workshop Part 03](https://github.com/CUAstro-REU-Python-Workshop/2022-workshop)\n",
    "\n",
    "In this exercise, we will go over many useful Python packages for astronomy and some of their features. Three of the big package we will overview are `numpy`, `astropy`, and `scipy`. For `numpy` in particular, I will overview some useful features of the package we did not go over in the prior exercises. We will also splash in some `matplotlib` to visualize many of the concepts we will go over. All of these packages work well together, so you should notice some overlap as we proceed.\n",
    "\n",
    "### Goals for this exercise\n",
    "\n",
    "1. Manipulating Numpy arrays\n",
    "\n",
    "2. Astropy Units\n",
    "\n",
    "3. Astropy I/O and Fits files\n",
    "\n",
    "4. Astropy Coordinates\n",
    "\n",
    "5. Scipy Optimization, Interpolation, Integration"
   ]
  },
  {
   "cell_type": "markdown",
   "metadata": {},
   "source": [
    "## Numpy"
   ]
  },
  {
   "cell_type": "code",
   "execution_count": null,
   "metadata": {},
   "outputs": [],
   "source": [
    "import numpy as np"
   ]
  },
  {
   "cell_type": "markdown",
   "metadata": {},
   "source": [
    "### Creating Arrays\n",
    "\n",
    "There are many ways to create various arrays in `numpy` that you certainly will find yourself using frequently. Below I am just going to show a few examples of the various ways to create organized and random arrays of numbers.\n",
    "\n",
    "With randomness within `numpy`, you can set a seed so that others can get the same set of random numbers. You do this by setting `np.random.seed()` to whatever you would like the seed to be."
   ]
  },
  {
   "cell_type": "code",
   "execution_count": null,
   "metadata": {},
   "outputs": [],
   "source": [
    "# Equally spaced points\n",
    "x_lin = np.linspace(0, 10, 100)\n",
    "\n",
    "# Logarithmically spaced points\n",
    "x_log = np.logspace(0, 1, 100)\n",
    "\n",
    "# Set the seed for reproducibility\n",
    "np.random.seed(42)\n",
    "\n",
    "# Random points in range [0, 1)\n",
    "x_rand = np.random.rand(100)\n",
    "\n",
    "# Random integers\n",
    "x_randint = np.random.randint(0, 10, 100)\n",
    "\n",
    "# Normal distribution about a value (0) with a standard deviation of 1\n",
    "x_normal = np.random.normal(loc=0, scale=1, size=100) # Explicitly setting loc and scale for clarity\n",
    "\n",
    "# Zero array\n",
    "x_zeros = np.zeros(100)\n",
    "\n",
    "# Ones array\n",
    "x_ones = np.ones(100)"
   ]
  },
  {
   "cell_type": "markdown",
   "metadata": {},
   "source": [
    "### Manipulating Arrays\n",
    "\n",
    "Often you have an array that has varying types of data, some of which \n",
    "\n",
    "Let's practice some of these techniques on real data from observations at the United Kingdom Infrared Telescope (UKIRT). In this folder is a single CMD from yours truly which contains the $K$-band and $H-K$ color, stored in `ukirt.csv`."
   ]
  },
  {
   "cell_type": "code",
   "execution_count": null,
   "metadata": {},
   "outputs": [],
   "source": [
    "# Read in UKIRT data, has header K, H-K\n",
    "ukirt = np.loadtxt('ukirt.csv', delimiter=',', skiprows=1)\n",
    "\n",
    "import matplotlib.pyplot as plt\n",
    "plt.style.use('./az-paper-twocol.mplstyle')\n",
    "\n",
    "# We will use this more than once, so let's define a function!\n",
    "# Remember DRY: Don't Repeat Yourself\n",
    "def plot_cmd(array, show=True):\n",
    "    fig, ax = plt.subplots(1, 1, figsize=(6,6))\n",
    "    ax.scatter(array[:,1], array[:,0], s=.5, c='#260101') # You can also use hex colors\n",
    "    ax.set_xlabel(r'$H-K$')\n",
    "    ax.set_ylabel(r'$K$')\n",
    "    ax.set_xlim(0., 3.)\n",
    "    ax.set_ylim(18., 11.) # This reverses the y-axis\n",
    "\n",
    "    if show:\n",
    "        plt.show()\n",
    "\n",
    "plot_cmd(ukirt)"
   ]
  },
  {
   "cell_type": "markdown",
   "metadata": {},
   "source": [
    "#### Where\n",
    "This field is used to calculate the extinction (amount of light blocked from observer) in the Milky Way. Let's say we want to isolate stars with $K$-band magnitude between [12,16]. In vanilla Python, one might think to loop (or list comprehension) the entire dataset. Luckily, `numpy` has useful functions like `np.where()` which can do exactly this thing! It will return the indices where a specific condition is met on an array."
   ]
  },
  {
   "cell_type": "code",
   "execution_count": null,
   "metadata": {},
   "outputs": [],
   "source": [
    "# Let's isolate the stars with K magnitudes between 12 and 16\n",
    "# We can combine conditions with & (and) and | (or)\n",
    "inds = np.where((ukirt[:,0] <= 16) & (ukirt[:,0] >= 12))\n",
    "\n",
    "# Isolate the data\n",
    "ukirt_sub = ukirt[inds]\n",
    "\n",
    "plot_cmd(ukirt_sub) # Yay function!"
   ]
  },
  {
   "cell_type": "markdown",
   "metadata": {},
   "source": [
    "A good logical way to understand what happens is your condition creates an array of `booleans`, which you then pass to `np.where()` to return the index at which those `booleans` are `True`. "
   ]
  },
  {
   "cell_type": "markdown",
   "metadata": {},
   "source": [
    "#### Argsort\n",
    "\n",
    "You may need to sort your data, which `np.argsort()` may be useful. It return the indices for which the data would be sorted."
   ]
  },
  {
   "cell_type": "code",
   "execution_count": null,
   "metadata": {},
   "outputs": [],
   "source": [
    "# Argsort returns the indices that would sort the array\n",
    "\n",
    "# Sort by K magnitude\n",
    "inds = np.argsort(ukirt[:,0])\n",
    "ukirt_sorted = ukirt[inds]\n",
    "\n",
    "print(ukirt_sorted)"
   ]
  },
  {
   "cell_type": "markdown",
   "metadata": {},
   "source": [
    "#### Percentile\n",
    "\n",
    "Getting the value at a specific percentile in an `ndarray` is very useful for a number of cases. One I imediately think of is setting colorbar scales for data, where outliers can make your figure unreadable! Let's find the 90\\% value of $H-K$ color using `np.percentile()`."
   ]
  },
  {
   "cell_type": "code",
   "execution_count": null,
   "metadata": {},
   "outputs": [],
   "source": [
    "# Get stars above 10% in H-K using np.percentile\n",
    "np.percentile(ukirt[:,1], 90)"
   ]
  },
  {
   "cell_type": "markdown",
   "metadata": {},
   "source": [
    "#### <---TO DO--->\n",
    "\n",
    "Quick wake up activity!\n",
    "Combine `np.where()` and `np.percentile()` to get all the stars above the 10th percentile in $H-K$ color AS WELL AS all of the stars within the [12,16] range of $K$-band magnitude.\n",
    "Then plot these stars using the function we made!\n",
    "This is to show the power of combining various `numpy` functions to quickly achieve a somewhat difficult result!\n",
    "\n",
    "If this seems like a lot to do, remember you can break it up into tiny chunks!"
   ]
  },
  {
   "cell_type": "code",
   "execution_count": null,
   "metadata": {},
   "outputs": [],
   "source": [
    "### YOUR CODE HERE"
   ]
  },
  {
   "cell_type": "markdown",
   "metadata": {},
   "source": [
    "## Astropy"
   ]
  },
  {
   "cell_type": "markdown",
   "metadata": {},
   "source": [
    "### Units and Constants\n",
    "\n",
    "One of the most useful features of `astropy` is its ability to handle units (the module is named `units`). If you assign a variable a unit, you can ask `astropy` to convert it do a different standard or do calculations without having to convert things yourself. Don't tell my professors, but I haven't calculated unit conversions by hand in ages thanks to `astropy`. This module alone made using Python my go-to calculator, especially since they work with `numpy` functions!\n",
    "\n",
    "Another module, which goes hand-in-hand with `astropy.units` is `astropy.constants`. Astropy has a lot of standard constants set, such as Boltzman's constant or Plank's constant.\n",
    "\n",
    "There is a slight learning curve with using `astropy.units`, as you need to know how they define all of the units. Most, however, are very intuitive and you can always check the docs if you're confused!"
   ]
  },
  {
   "cell_type": "code",
   "execution_count": null,
   "metadata": {},
   "outputs": [],
   "source": [
    "# Usually people load astropy modules in seperately, rather than the entire package\n",
    "import astropy.units as u\n",
    "import astropy.constants as c # a common alias for this is 'const', I'm just lazy\n",
    "\n",
    "# Create a unit of length\n",
    "length = 26.2 * u.m\n",
    "\n",
    "print(length)\n",
    "\n",
    "print(length.to(u.cm))"
   ]
  },
  {
   "cell_type": "markdown",
   "metadata": {},
   "source": [
    "Notice above how we used the `.to()` attribute to change the units. This is incredibly useful when you need to do math and work out units!"
   ]
  },
  {
   "cell_type": "code",
   "execution_count": null,
   "metadata": {},
   "outputs": [],
   "source": [
    "# Get the recieved flux from a star\n",
    "lum = 0.85 * u.Lsun\n",
    "dist = 10 * u.pc\n",
    "\n",
    "# F = L / (4 * pi * d^2)\n",
    "flux = lum / (4 * np.pi * dist**2)\n",
    "print(f\"Flux: {flux.to(u.W / u.m**2):0.2e}\")"
   ]
  },
  {
   "cell_type": "markdown",
   "metadata": {},
   "source": [
    "You might be wondering what I did to the string above. That is called \"formatting\" (denoted by `:`), which just alters the way the value is displayed. In this case, I asked to go to 2 decimal places (the `0.2`) and be put in scientific notation (the `e`).\n",
    "\n",
    "Let's also use some constants to get the force of gravity between the Earth and Sun!"
   ]
  },
  {
   "cell_type": "code",
   "execution_count": null,
   "metadata": {},
   "outputs": [],
   "source": [
    "# Using constant c.G\n",
    "Fg = c.G * c.M_earth * c.M_sun / c.au**2\n",
    "\n",
    "print(f\"{Fg.to(u.N):0.2e}\")"
   ]
  },
  {
   "cell_type": "markdown",
   "metadata": {},
   "source": [
    "### Reading Files\n",
    "\n",
    "While the `astropy.io` module contains many useful functions like `readascii()`, the most important tool is the ability to read `fits` files. For the uninformed, `fits` files are a common file format used within astronomy. You can only avoid `fits` for so long before being forced to use them (I tried). We will download a sample fits file from `astropy` and open it using `fits.open()`."
   ]
  },
  {
   "cell_type": "code",
   "execution_count": null,
   "metadata": {},
   "outputs": [],
   "source": [
    "from astropy.io import fits\n",
    "\n",
    "# Let's read in a sample data file from astropy\n",
    "from astropy.utils.data import download_file\n",
    "image_file = download_file('http://data.astropy.org/tutorials/FITS-images/HorseHead.fits', cache=True)\n",
    "\n",
    "# Open the file with fits.open()\n",
    "hdu_list = fits.open(image_file)\n",
    "\n",
    "# Structure of the file\n",
    "hdu_list.info()"
   ]
  },
  {
   "cell_type": "markdown",
   "metadata": {},
   "source": [
    "`fits` files have headers, and data is usually stored in the `Primary` block. You can access different blocks through indexing."
   ]
  },
  {
   "cell_type": "code",
   "execution_count": null,
   "metadata": {},
   "outputs": [],
   "source": [
    "# Get the data\n",
    "data = hdu_list[0].data\n",
    "\n",
    "# You can also do it this way if you don't want header information\n",
    "data = fits.getdata(image_file)\n",
    "\n",
    "# Access the header, which has metadata\n",
    "header = hdu_list[0].header"
   ]
  },
  {
   "cell_type": "markdown",
   "metadata": {},
   "source": [
    "We can access the header keys using `header.keys` and call them similarly to a dictionary."
   ]
  },
  {
   "cell_type": "code",
   "execution_count": null,
   "metadata": {},
   "outputs": [],
   "source": [
    "print(header.keys)"
   ]
  },
  {
   "cell_type": "code",
   "execution_count": null,
   "metadata": {},
   "outputs": [],
   "source": [
    "# Exposure time in minutes\n",
    "header['EXPOSURE']"
   ]
  },
  {
   "cell_type": "markdown",
   "metadata": {},
   "source": [
    "Yikes thats a lot of information! We can now close the file to free up memory since we have the data saved."
   ]
  },
  {
   "cell_type": "code",
   "execution_count": null,
   "metadata": {},
   "outputs": [],
   "source": [
    "# Close the file\n",
    "hdu_list.close()"
   ]
  },
  {
   "cell_type": "markdown",
   "metadata": {},
   "source": [
    "Like we did in the `matplotlib` exercise, let's plot this image using `plt.imshow()`."
   ]
  },
  {
   "cell_type": "code",
   "execution_count": null,
   "metadata": {},
   "outputs": [],
   "source": [
    "# Plot the image with imshow\n",
    "plt.imshow(data, cmap='gray')\n",
    "plt.colorbar()\n",
    "plt.show()"
   ]
  },
  {
   "cell_type": "markdown",
   "metadata": {},
   "source": [
    "### Coordinates\n",
    "\n",
    "Astronomy has various coordinate systems with nontrivial transformations between them. `Astropy` can handle these coordinate systems for us and provide a lot of other cool functionalities like proper axis plotting! Most often you will work through `astropy.coordinates.SkyCoord()` to do coordinate related activites.\n",
    "\n",
    "Let's extract the Right Ascension (RA) and Declination (Dec) of the horsehead image above and create a `SkyCoord` for it."
   ]
  },
  {
   "cell_type": "code",
   "execution_count": null,
   "metadata": {},
   "outputs": [],
   "source": [
    "from astropy.coordinates import SkyCoord\n",
    "\n",
    "# Get RA and Dec of Horsehead Nebula\n",
    "RA = header['PlateRA']; Dec = header['PlateDec'] # These are in degrees\n",
    "\n",
    "# Create a SkyCoord object\n",
    "coords = SkyCoord(ra=RA*u.deg, dec=Dec*u.deg, frame='icrs') # ICRS is the default frame for RA and Dec"
   ]
  },
  {
   "cell_type": "markdown",
   "metadata": {},
   "source": [
    "In typical `astropy` fashion, we can convert these to other units or other reference frames."
   ]
  },
  {
   "cell_type": "code",
   "execution_count": null,
   "metadata": {},
   "outputs": [],
   "source": [
    "# Print the coordinates\n",
    "print(coords.to_string('hmsdms'))\n",
    "\n",
    "# Can also just get RA or Dec\n",
    "print(coords.ra.hms)\n",
    "print(coords.ra.deg)\n",
    "\n",
    "# Get the galactic coordinates\n",
    "gal_coords = coords.galactic\n",
    "print(gal_coords)"
   ]
  },
  {
   "cell_type": "markdown",
   "metadata": {},
   "source": [
    "It is useful to know that `SkyCoords` can take an array of location data, which is substantially faster than creating individual SkyCoordinate objects. You can then access the individual coordinates using indexing."
   ]
  },
  {
   "cell_type": "code",
   "execution_count": null,
   "metadata": {},
   "outputs": [],
   "source": [
    "# Array of coordinates\n",
    "ra = np.array([10, 20, 30]) * u.deg\n",
    "dec = np.array([45, 50, 55]) * u.deg\n",
    "\n",
    "# Create a SkyCoord object\n",
    "coord_arr = SkyCoord(ra=ra, dec=dec)\n",
    "\n",
    "print(coord_arr)\n",
    "print(coord_arr[1])"
   ]
  },
  {
   "cell_type": "markdown",
   "metadata": {},
   "source": [
    "#### World Coordinate System\n",
    "\n",
    "Another way of getting coordinates from `fits` files is using the World Coordinate System, or `astropy.WCS`. By giving `astropy` the header of a `fits` file, we can get its location information and plot projections! This is done by setting the `projection` argument of `plt.subplot()` to the `wcs` from `astropy`."
   ]
  },
  {
   "cell_type": "code",
   "execution_count": null,
   "metadata": {},
   "outputs": [],
   "source": [
    "# Create WCS from header\n",
    "from astropy.wcs import WCS\n",
    "\n",
    "horsehead_wcs = WCS(header)\n",
    "\n",
    "# Plot the image with imshow and WCS\n",
    "plt.subplot(projection=horsehead_wcs)\n",
    "\n",
    "plt.imshow(data, cmap='gray')\n",
    "plt.colorbar()\n",
    "\n",
    "# Add gridlines\n",
    "plt.grid(color='white', ls='dotted')\n",
    "\n",
    "plt.xlabel('Right Ascension')\n",
    "plt.ylabel('Declination')\n",
    "\n",
    "plt.show()"
   ]
  },
  {
   "cell_type": "markdown",
   "metadata": {},
   "source": [
    "## Scipy\n",
    "\n",
    "`Scipy` is an incredibly powerful package that is useful for various mathematical and statistical problems. Like `astropy`, people usually import just the modules they need rather than the entire `scipy` library."
   ]
  },
  {
   "cell_type": "markdown",
   "metadata": {},
   "source": [
    "### Curve Fitting/Optimization\n",
    "\n",
    "One of the key features of `scipy` is the ability to fit functions to data. One of the most basic versions of this is `scipy.optimize.curve_fit()`, which given a function and data will return the optimized set of parameters in the function along with the covariance matrix."
   ]
  },
  {
   "cell_type": "code",
   "execution_count": null,
   "metadata": {},
   "outputs": [],
   "source": [
    "# Example taken from scipy documentation\n",
    "# https://docs.scipy.org/doc/scipy/reference/generated/scipy.optimize.curve_fit.html\n",
    "from scipy.optimize import curve_fit\n",
    "\n",
    "# define our model\n",
    "def func(x, a, b, c):\n",
    "  return a * np.exp(-b * x) + c\n",
    "\n",
    "# generate some data\n",
    "xdata = np.linspace(0, 4, 50)\n",
    "y = func(xdata, 2.5, 1.3, 0.5)\n",
    "\n",
    "# add noise to the data\n",
    "y_noise = 0.2 * np.random.normal(size=xdata.size)\n",
    "ydata = y + y_noise\n",
    "\n",
    "# Run curve_fit\n",
    "# popt is the optimized parameters\n",
    "# pcov is the covariance matrix\n",
    "popt, pcov = curve_fit(func, xdata, ydata)\n",
    "\n",
    "print(popt)"
   ]
  },
  {
   "cell_type": "markdown",
   "metadata": {},
   "source": [
    "We can visualize our curve fit using `matplotlib`."
   ]
  },
  {
   "cell_type": "code",
   "execution_count": null,
   "metadata": {},
   "outputs": [],
   "source": [
    "plt.figure(figsize=(6,4))\n",
    "\n",
    "# Plot the data and the fit\n",
    "plt.plot(xdata, ydata, label='data', marker='o', ls='none')\n",
    "\n",
    "# The *popt unpacks the tuple into the arguments\n",
    "plt.plot(xdata, func(xdata, *popt), label='fit: a=%5.3f, b=%5.3f, c=%5.3f' % tuple(popt))\n",
    "\n",
    "plt.xlabel('x')\n",
    "plt.ylabel('y')\n",
    "plt.legend()\n",
    "plt.show()"
   ]
  },
  {
   "cell_type": "markdown",
   "metadata": {},
   "source": [
    "That was super easy! Often, you will be aiming to minimize functions when working with data. This is common with minimizing residuals or a loss function, which can all be done through `scipy.optimize.minimize()`.\n",
    "\n",
    "The UKIRT data we were working and chopped earlier has a population of stars in them called Red Clump (RC) stars. These are the dense region of stars in the CMD we plotted earlier. We can try and recover the magnitude of the RC stars in this field by optimizing a gaussian."
   ]
  },
  {
   "cell_type": "code",
   "execution_count": null,
   "metadata": {},
   "outputs": [],
   "source": [
    "# Let's minimize a function\n",
    "from scipy.optimize import minimize\n",
    "\n",
    "inds = np.where((ukirt[:,0] <= 16) & (ukirt[:,0] >= 12) & (ukirt[:,1] >= np.percentile(ukirt[:,1], 20)))\n",
    "\n",
    "# Isolate the data\n",
    "ukirt_sub = ukirt[inds]\n",
    "\n",
    "# Bin the data in K-magnitude\n",
    "bins = np.linspace(12, 16, 20)\n",
    "hist, bin_edge = np.histogram(ukirt_sub[:,0], bins=bins)\n",
    "\n",
    "# Define a Gaussian function with exponential\n",
    "def gaussian(x, a, b, c, d, e):\n",
    "    return a * np.exp(-0.5 * ((x - b) / c)**2) + d*np.exp(e*(x-b))\n",
    "\n",
    "# Define the chi-squared function\n",
    "def chi2(params, x, y, yerr):\n",
    "    return np.sum((y - gaussian(x, *params))**2 / yerr**2)\n",
    "\n",
    "# Initial guess for the parameters\n",
    "params0 = [100, 13, 1, 10, -0.5]\n",
    "\n",
    "# Run the minimization. Various methods can be used here, but we'll use the default\n",
    "result = minimize(chi2, params0, args=(bin_edge[:-1], hist, np.sqrt(hist)))\n",
    "\n",
    "print(result.x)\n",
    "\n",
    "# plot hist\n",
    "plt.figure(figsize=(6,4))\n",
    "plt.step(bin_edge[:-1], hist, where='mid', label='Binned Data')\n",
    "plt.plot(bin_edge[:-1], gaussian(bin_edge[:-1], *result.x), color='r', label='Fit')\n",
    "\n",
    "plt.xlabel('K Magnitude')\n",
    "plt.ylabel('Number of Stars')\n",
    "plt.legend()\n",
    "plt.show()"
   ]
  },
  {
   "cell_type": "markdown",
   "metadata": {},
   "source": [
    "### Interpolation\n",
    "\n",
    "Suppose you have a sparsely sampled data set, and you want to estimate how the data behaves with higher resolution or estimate intermediate values of the data. This is where `scipy` comes to help with its various interpolation functions, such as `interp1d()`."
   ]
  },
  {
   "cell_type": "code",
   "execution_count": null,
   "metadata": {},
   "outputs": [],
   "source": [
    "from scipy.interpolate import interp1d\n",
    "\n",
    "# Define the function\n",
    "x = np.linspace(0, 10, 10)\n",
    "y = np.sin(x)\n",
    "\n",
    "# Linear interpolation\n",
    "f = interp1d(x, y) # Creates a function that can be called with new x values\n",
    "x_new = np.linspace(0, 10, 100)\n",
    "y_new = f(x_new)\n",
    "\n",
    "# Plot the data\n",
    "plt.figure(figsize=(6,4))\n",
    "\n",
    "# zorder sets the order of the plot, so the data is on top\n",
    "plt.plot(x, y, 'o', label='data', zorder=10)\n",
    "plt.plot(x_new, y_new, label='linear interp')\n",
    "\n",
    "plt.xlabel('x')\n",
    "plt.ylabel('y (sin(x))')\n",
    "\n",
    "plt.legend()\n",
    "plt.show()"
   ]
  },
  {
   "cell_type": "markdown",
   "metadata": {},
   "source": [
    "#### <---TO DO--->\n",
    "\n",
    "Well that didn't look great. How about we try a different interpolation method that might do a better job. In your browser, search up `scipy`'s 'cubic' interpolater and see how it works (it should be very similar!). Import the function and implement it on the same data from above. Plot the results along with the linear interpolation to see the improvement! "
   ]
  },
  {
   "cell_type": "code",
   "execution_count": null,
   "metadata": {},
   "outputs": [],
   "source": [
    "### YOUR CODE HERE"
   ]
  },
  {
   "cell_type": "markdown",
   "metadata": {},
   "source": [
    "### ODE Solving\n",
    "\n",
    "`scipy` can also be used for solving ODEs. Lets just do a quick practice on $\\frac{\\delta y}{\\delta t} = -y$ using `scipy.integrate.solve_ivp()`. This solves the initial value problem given a range and initial condition."
   ]
  },
  {
   "cell_type": "code",
   "execution_count": null,
   "metadata": {},
   "outputs": [],
   "source": [
    "from scipy.integrate import  solve_ivp\n",
    "\n",
    "# Define the function to integrate\n",
    "def dydt(t, y):\n",
    "    return -y\n",
    "\n",
    "# Define the initial conditions\n",
    "y0 = 1\n",
    "\n",
    "# Define the time range\n",
    "t_span = [0, 10]\n",
    "\n",
    "# Solve the ODE\n",
    "sol = solve_ivp(dydt, t_span, [y0])\n",
    "\n",
    "# Plot the solution\n",
    "plt.figure(figsize=(6,4))\n",
    "plt.plot(sol.t, sol.y[0], 'ok')\n",
    "plt.xlabel('t')\n",
    "plt.ylabel('y')\n",
    "plt.show()"
   ]
  }
 ],
 "metadata": {
  "kernelspec": {
   "display_name": "base",
   "language": "python",
   "name": "python3"
  },
  "language_info": {
   "codemirror_mode": {
    "name": "ipython",
    "version": 3
   },
   "file_extension": ".py",
   "mimetype": "text/x-python",
   "name": "python",
   "nbconvert_exporter": "python",
   "pygments_lexer": "ipython3",
   "version": "3.9.12"
  }
 },
 "nbformat": 4,
 "nbformat_minor": 2
}
